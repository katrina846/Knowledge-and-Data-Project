{
 "cells": [
  {
   "cell_type": "markdown",
   "id": "e96ae7b5-4d80-4387-8e36-b6566c919afb",
   "metadata": {},
   "source": [
    "Welcome. We will guide you through this notebook to make sure you find your desired museum(s) by following the steps below. Be sure to check the \"read-me\" file to ensure a smooth experience with the application. Enjoy! :)"
   ]
  },
  {
   "cell_type": "markdown",
   "id": "4c2ba23a-b37e-4296-8eed-b3db59b5caaa",
   "metadata": {},
   "source": [
    "Step 1: Please make sure to install the necessary libraries to avoid inconveniences. To install these libraries, simply open the terminal on your device and paste the codes that are provided in the as follows:\n",
    "\n",
    "1- pip install geopy\n",
    "\n",
    "2- pip install folium\n",
    "\n",
    "3- pip install pandas"
   ]
  },
  {
   "cell_type": "markdown",
   "id": "d8f37636-14e2-4a99-8475-9d6653a06877",
   "metadata": {},
   "source": [
    "<b><font color='red' size='3px'>SETUP</font></b>"
   ]
  },
  {
   "cell_type": "code",
   "execution_count": 1,
   "id": "cd2c82c8-68de-4223-8505-d11664a5af5d",
   "metadata": {},
   "outputs": [],
   "source": [
    "import ssl\n",
    "from geopy import distance\n",
    "import ipywidgets as widgets\n",
    "from ipywidgets import interact, interactive, fixed, interact_manual\n",
    "import matplotlib.pyplot as plt\n",
    "import matplotlib.cm as cm\n",
    "import numpy as np\n",
    "import folium\n",
    "import pandas as pd\n",
    "ssl._create_default_https_context = ssl._create_unverified_context"
   ]
  },
  {
   "cell_type": "markdown",
   "id": "47d785e7-0fc0-4791-aa99-9d52dc1bf47a",
   "metadata": {},
   "source": [
    "Step 2: This application was meant to retrive the location of the user and then adjust the map (in the following steps) accourdingly. However, we encounter few difficulties. Hence, we will use the defualt location of the \"VU university\" as a replacment. We apologies for this inconvinience. Please run the following cell to initial a few variables that are necessary for the apllication:"
   ]
  },
  {
   "cell_type": "markdown",
   "id": "8dd5bc4b-f30d-4e72-9bd1-9f4ad0c723c7",
   "metadata": {},
   "source": [
    "<b><font color='red' size='3px'>SETUP</font></b>"
   ]
  },
  {
   "cell_type": "code",
   "execution_count": 2,
   "id": "094e0e83-397c-4df7-b014-45d2786c1d35",
   "metadata": {},
   "outputs": [],
   "source": [
    "user_coor = (52.333781,4.865685)\n",
    "dist = 0\n",
    "added_user_to_map = False\n",
    "added_accepts_cards_to_dataset = False"
   ]
  },
  {
   "cell_type": "markdown",
   "id": "850b8597-fae2-4319-b689-ce2e37623eeb",
   "metadata": {},
   "source": [
    "Step 3: The following cells contain SPARQL queries and some essential functions that are later on used for the recommendation. Make sure to run these cells before proceeding forward:"
   ]
  },
  {
   "cell_type": "markdown",
   "id": "75931e7d-4dc3-4573-89cb-8d74ba9651d5",
   "metadata": {},
   "source": [
    "<b><font color='red' size='3px'>SPARQL</font></b>"
   ]
  },
  {
   "cell_type": "code",
   "execution_count": 3,
   "id": "50b2601d",
   "metadata": {},
   "outputs": [],
   "source": [
    "%load_ext ipython_sparql_pandas"
   ]
  },
  {
   "cell_type": "markdown",
   "id": "5667108e-62c3-40ef-9474-9bb2b968ebf1",
   "metadata": {},
   "source": [
    "<b><font color='red' size='3px'>SPARQL</font></b>"
   ]
  },
  {
   "cell_type": "code",
   "execution_count": 4,
   "id": "dd1a98bb",
   "metadata": {},
   "outputs": [],
   "source": [
    "%%capture cell1\n",
    "%%sparql http://LAPTOP-VVBII7UP:7200/repositories/Final -s museumartist\n",
    "PREFIX gp: <http://www.semanticweb.org/kandd/group76/final_project#> \n",
    "PREFIX rdf: <http://www.w3.org/1999/02/22-rdf-syntax-ns#> \n",
    "PREFIX xsd: <http://www.w3.org/2001/XMLSchema#>\n",
    "\n",
    "PREFIX rdfs: <http://www.w3.org/2000/01/rdf-schema#>\n",
    "SELECT DISTINCT ?Museum ?name{\n",
    "    ?museum rdf:type gp:Museum ;\n",
    "    \t\trdfs:label ?label;\n",
    "    \t\tgp:exhibitsArtFrom ?artist.\n",
    "    ?artist gp:hasName ?name .\n",
    "    BIND(?label AS ?Museum)\n",
    "    FILTER ( !strstarts(str(?museum), \"http://www.semanticweb.org/kandd/group54/ontology2\") )\n",
    "}ORDER BY ASC(str(?name))\n"
   ]
  },
  {
   "cell_type": "markdown",
   "id": "afeccdf4-04d0-4024-aac9-03ac3bbd4858",
   "metadata": {},
   "source": [
    "<b><font color='red' size='3px'>SETUP</font></b>"
   ]
  },
  {
   "cell_type": "code",
   "execution_count": 5,
   "id": "ba05b3fd",
   "metadata": {},
   "outputs": [],
   "source": [
    "names = []\n",
    "for i in museumartist['name']:\n",
    "    if i not in names:\n",
    "        names.append(i)"
   ]
  },
  {
   "cell_type": "markdown",
   "id": "f66885ab-5b8b-470f-b111-2b66fd3423a3",
   "metadata": {},
   "source": [
    "<b><font color='red' size='3px'>SPARQL</font></b>"
   ]
  },
  {
   "cell_type": "code",
   "execution_count": 6,
   "id": "d81f5034-5b97-4040-b3fd-4a7705bbb7e6",
   "metadata": {},
   "outputs": [],
   "source": [
    "%%capture cell2\n",
    "%%sparql http://LAPTOP-VVBII7UP:7200/repositories/Final -s museums\n",
    "PREFIX gp: <http://www.semanticweb.org/kandd/group76/final_project#> \n",
    "PREFIX rdf: <http://www.w3.org/1999/02/22-rdf-syntax-ns#> \n",
    "PREFIX xsd: <http://www.w3.org/2001/XMLSchema#>\n",
    "\n",
    "PREFIX rdfs: <http://www.w3.org/2000/01/rdf-schema#>\n",
    "SELECT DISTINCT ?Museum ?PopularityRate ?styleName{\n",
    "    ?museum rdf:type gp:Museum ;\n",
    "    \t\trdfs:label ?label;\n",
    "    \t\tgp:hasPopularity ?popularity ;\n",
    "    \t\tgp:exhibitsArtFrom ?artist.\n",
    "    ?artist gp:hasArtStyle ?artstyle .\n",
    "    \n",
    "    ?artstyle rdf:type ?artgenre .\n",
    "    ?artgenre rdfs:subClassOf gp:ArtStyle.\n",
    "    ?artgenre rdfs:label ?styleName.\n",
    "    BIND(  ( (?popularity*5)/(?popularity+5) ) AS ?PopularityRate)\n",
    "    BIND(?label AS ?Museum)\n",
    "    FILTER ( !strstarts(str(?museum), \"http://www.semanticweb.org/kandd/group54/ontology2\") )\n",
    "} ORDER BY DESC (?PopularityRate)"
   ]
  },
  {
   "cell_type": "markdown",
   "id": "2f6bede2-79aa-4758-8550-6ed6e9b3c51d",
   "metadata": {},
   "source": [
    "Step 3: Please select an option from the drop-down boxes that appear after running the following cell to personalize the result of recommendation:\n",
    "- The first drop-down menu will result in a table with the names of museums that contain artworks of the \"Artist\" that you have selected\n",
    "- The second drop-down menu will result in a table with the names of museums that contain artworks of the \"Art Period\" that you have selected"
   ]
  },
  {
   "cell_type": "markdown",
   "id": "2ce05173-5b75-4a7c-9eff-909a93ec0ebe",
   "metadata": {},
   "source": [
    "<b><font color='red' size='3px'>USER</font></b>"
   ]
  },
  {
   "cell_type": "code",
   "execution_count": 7,
   "id": "6a37e950-a48b-4614-bc8d-0b58401a9435",
   "metadata": {
    "jupyter": {
     "source_hidden": true
    },
    "tags": []
   },
   "outputs": [
    {
     "name": "stdout",
     "output_type": "stream",
     "text": [
      "Please choose an artist:\n",
      "\n"
     ]
    },
    {
     "data": {
      "application/vnd.jupyter.widget-view+json": {
       "model_id": "b61eabe247ce4193abd23e825be7d554",
       "version_major": 2,
       "version_minor": 0
      },
      "text/plain": [
       "interactive(children=(Dropdown(description='style', options=('Alexej von Jawlensky', 'Ben F. Laposky', 'Camill…"
      ]
     },
     "metadata": {},
     "output_type": "display_data"
    },
    {
     "name": "stdout",
     "output_type": "stream",
     "text": [
      "\n",
      "\n",
      "\n",
      "Please choose an art period:\n",
      "\n"
     ]
    },
    {
     "data": {
      "application/vnd.jupyter.widget-view+json": {
       "model_id": "723e05ab9aba41c39dbacef872cc247f",
       "version_major": 2,
       "version_minor": 0
      },
      "text/plain": [
       "interactive(children=(Dropdown(description='style', options=('Renaissance', 'Early Modern', '20th Century', 'M…"
      ]
     },
     "metadata": {},
     "output_type": "display_data"
    }
   ],
   "source": [
    "def draw_artists(style):\n",
    "    global museumartist1\n",
    "    drop = []\n",
    "    for i in range(len(museumartist)):\n",
    "        if str(museumartist.name[i]) != style:\n",
    "            drop.append(i)\n",
    "            \n",
    "            \n",
    "    museumartist1 = museumartist.drop(drop)\n",
    "    museumartist1.unstack()\n",
    "    return museumartist1.style.set_table_styles([{\n",
    "                'selector': 'td',\n",
    "                'props': 'font-size:1em;text-align:left',\n",
    "                 },{\n",
    "                'selector': 'th',\n",
    "                'props': 'font-size:1em;text-align:center',\n",
    "                 }]).hide_index()\n",
    "    \n",
    "def draw_artstyles(style):\n",
    "    global _museum\n",
    "    if style != 'All':\n",
    "        drop = []\n",
    "        for i in range(len(museums)):\n",
    "            if str(museums.styleName[i]) != style:\n",
    "                drop.append(i)\n",
    "                \n",
    "                \n",
    "        museums1 = museums.drop(drop)\n",
    "    else:\n",
    "        museums1 = museums\n",
    "    museums1 = museums1.drop(columns=['PopularityRate'])\n",
    "    return museums1.style.set_table_styles([{\n",
    "                'selector': 'td',\n",
    "                'props': 'font-size:1em;text-align:left',\n",
    "                 },{\n",
    "                'selector': 'th',\n",
    "                'props': 'font-size:1em;text-align:center',\n",
    "                 }]).hide_index()\n",
    "\n",
    "print(\"Please choose an artist:\\n\")\n",
    "stylesbox = widgets.interact(\n",
    "    draw_artists, \n",
    "    placeholder='Write the name of an artist',\n",
    "    style = names,\n",
    "    description='Name:',\n",
    "    ensure_option=True,\n",
    "    disabled=False\n",
    ")\n",
    "print(\"\\n\\n\")\n",
    "print(\"Please choose an art period:\\n\")\n",
    "stylesbox = widgets.interact(\n",
    "    draw_artstyles, \n",
    "    placeholder='Choose Option',\n",
    "    style=['Renaissance', 'Early Modern', '20th Century', 'Modern Art', 'All'],\n",
    "    description='Art period:',\n",
    "    ensure_option=True,\n",
    "    disabled=False\n",
    ")"
   ]
  },
  {
   "cell_type": "markdown",
   "id": "e1183876-29fb-45bf-9334-66e4142269e3",
   "metadata": {},
   "source": [
    "Step 4: The following cell contains a SPARQL query that is used for the recommendation based on the popularity of the museums. Make sure to run this cell before proceeding forward:"
   ]
  },
  {
   "cell_type": "markdown",
   "id": "e0714eaf-d909-49dc-9426-d512d3e138c7",
   "metadata": {},
   "source": [
    "<b><font color='red' size='3px'>SPARQL</font></b>"
   ]
  },
  {
   "cell_type": "code",
   "execution_count": 8,
   "id": "091ce9a7-d20b-42d4-9bcf-b01aa1ec634e",
   "metadata": {},
   "outputs": [],
   "source": [
    "%%capture cell3\n",
    "%%sparql http://LAPTOP-VVBII7UP:7200/repositories/Final -s museumspopularity\n",
    "PREFIX gp: <http://www.semanticweb.org/kandd/group76/final_project#> \n",
    "PREFIX rdf: <http://www.w3.org/1999/02/22-rdf-syntax-ns#> \n",
    "PREFIX xsd: <http://www.w3.org/2001/XMLSchema#>\n",
    "\n",
    "PREFIX rdfs: <http://www.w3.org/2000/01/rdf-schema#>\n",
    "SELECT DISTINCT ?Museum ?PopularityRate {\n",
    "    ?museum rdf:type gp:Museum ;\n",
    "    \t\trdfs:label ?label;\n",
    "    \t\tgp:hasPopularity ?popularity ;\n",
    "\n",
    "    BIND(  ( (?popularity*5)/(?popularity+5) ) AS ?PopularityRate)\n",
    "    BIND(?label AS ?Museum)\n",
    "    FILTER ( !strstarts(str(?museum), \"http://www.semanticweb.org/kandd/group54/ontology2\") )\n",
    "} ORDER BY DESC (?PopularityRate)"
   ]
  },
  {
   "cell_type": "markdown",
   "id": "2aa0b09c-5901-4c3d-8673-9b3288bc23e1",
   "metadata": {},
   "source": [
    "Step 5: The result of the following cell is a bar chart that orders museums based on their popularity. The popularity range is from 1 (star) to 5. The color green indicates the high popularity of the museum and the color red indicates the low popularity. These popularities are based on the number of visitors each museum has per year."
   ]
  },
  {
   "cell_type": "markdown",
   "id": "c391d581-5d1e-4bc4-b059-b7d28c8797ac",
   "metadata": {},
   "source": [
    "<b><font color='red' size='3px'>SETUP</font></b>"
   ]
  },
  {
   "cell_type": "code",
   "execution_count": 9,
   "id": "d4dfd3b3",
   "metadata": {},
   "outputs": [
    {
     "data": {
      "image/png": "[encoded data removed]",
      "text/plain": [
       "<Figure size 576x576 with 1 Axes>"
      ]
     },
     "metadata": {
      "needs_background": "light"
     },
     "output_type": "display_data"
    }
   ],
   "source": [
    "# Pandas visualization: https://pandas.pydata.org/docs/user_guide/visualization.html\n",
    "def NormalizeData(data):\n",
    "    return (data - np.min(data)) / (np.max(data) - np.min(data))\n",
    "\n",
    "s = []\n",
    "t = NormalizeData(museumspopularity.PopularityRate)\n",
    "for j in t:\n",
    "    q = round(float(j)- 0.5, 2)\n",
    "    s.append(q)\n",
    "for i in range(len(museumspopularity.PopularityRate)):\n",
    "    museumspopularity.PopularityRate[i] = round(float(museumspopularity.PopularityRate[i]),2)\n",
    "\n",
    "colors = cm.gist_rainbow(np.array(s))\n",
    "\n",
    "museumspopularity.plot(kind=\"barh\", x ='Museum',y = 'PopularityRate', fontsize=12, figsize=(8, 8), color = colors)\n",
    "plt.xlabel('Number Of Visitors')\n",
    "plt.ylabel('Name Of Museum')\n",
    "plt.gca().invert_yaxis()"
   ]
  },
  {
   "cell_type": "markdown",
   "id": "2f193d63-264d-462d-9cc3-a72f75c70101",
   "metadata": {},
   "source": [
    "Step 6: The following cell contains a SPARQL query that is used for the location recommendation. Make sure to run this cell before proceeding forward:"
   ]
  },
  {
   "cell_type": "markdown",
   "id": "03014167-5ac6-4573-b0bc-e8e92a9b1243",
   "metadata": {},
   "source": [
    "<b><font color='red' size='3px'>SPARQL</font></b>"
   ]
  },
  {
   "cell_type": "code",
   "execution_count": 10,
   "id": "5366d2c7",
   "metadata": {},
   "outputs": [],
   "source": [
    "%%capture cell4\n",
    "%%sparql http://LAPTOP-VVBII7UP:7200/repositories/Final -s museumlocation\n",
    "PREFIX gp: <http://www.semanticweb.org/kandd/group76/final_project#> \n",
    "PREFIX rdf: <http://www.w3.org/1999/02/22-rdf-syntax-ns#> \n",
    "PREFIX xsd: <http://www.w3.org/2001/XMLSchema#>\n",
    "\n",
    "SELECT distinct?Museum ?lat ?lon {\n",
    "    ?museum rdf:type gp:Museum ;\n",
    "    rdfs:label ?label;\n",
    "    gp:hasLong ?lon ;\n",
    "    gp:hasLat ?lat .\n",
    "\n",
    "    BIND(?label AS ?Museum)\n",
    "} ORDER BY DESC (?PopularityRate)"
   ]
  },
  {
   "cell_type": "markdown",
   "id": "68c33354-5041-47be-a752-714c2840d9f4",
   "metadata": {},
   "source": [
    "Step 7: Please select a distance using the slider that appears after running the following cell to personalize the result of the map later on.\n",
    "The distance range is calculated in kilometers and it will then aid in marking the museums that are located in the selected kilometer radious of the user's location (Which is the location of \"VU university\" in Amsterdam):"
   ]
  },
  {
   "cell_type": "markdown",
   "id": "bc9aad9c-8ae4-486c-a8d2-54edde21a23a",
   "metadata": {},
   "source": [
    "<b><font color='red' size='3px'>USER</font></b>"
   ]
  },
  {
   "cell_type": "code",
   "execution_count": 11,
   "id": "f80172d0",
   "metadata": {},
   "outputs": [
    {
     "name": "stdout",
     "output_type": "stream",
     "text": [
      "Please choose a distance range (km) \n",
      "\n"
     ]
    },
    {
     "data": {
      "application/vnd.jupyter.widget-view+json": {
       "model_id": "9e283bbf602944e48a9116472d798975",
       "version_major": 2,
       "version_minor": 0
      },
      "text/plain": [
       "interactive(children=(IntSlider(value=12, description='distance', max=25), Output()), _dom_classes=('widget-in…"
      ]
     },
     "metadata": {},
     "output_type": "display_data"
    }
   ],
   "source": [
    "def return_distance(distance):\n",
    "    global dist\n",
    "    dist = distance\n",
    "\n",
    "print(\"Please choose a distance range (km) \\n\")\n",
    "\n",
    "\n",
    "stylesbox = widgets.interact(\n",
    "    return_distance, \n",
    "    distance=(0, 25, 1),\n",
    "    ensure_option=True,\n",
    "    disabled=False\n",
    ")\n",
    "data2 = {\n",
    "    'Museum':'your location',\n",
    "    'lat':float(user_coor[0]),\n",
    "    'lon': float(user_coor[1])\n",
    "}\n",
    "\n",
    "if not added_user_to_map:\n",
    "    \n",
    "    museumlocation = museumlocation.append(data2, ignore_index=True)\n",
    "    distances = []\n",
    "    for i in range(len(museumlocation)):\n",
    "        distances.append(round(distance.geodesic(user_coor, (museumlocation.lat[i],museumlocation.lon[i])).km,1))\n",
    "    added_user_to_map = True\n",
    "    dist_add = pd.Series(distances, index=range(1,26))\n",
    "    museumlocation['distance'] = dist_add.values\n"
   ]
  },
  {
   "cell_type": "markdown",
   "id": "f27ee05c-056f-4bf9-8174-0b6fd58a3101",
   "metadata": {},
   "source": [
    "Step 8: The result of the following cell is a map that shows the locations of museums in addition to the user's location (\"VU university\"). The location of the user is displayed as a blue colored circle. Based on the distance radious that you have selected in the previous step, the nearby museums are displayed as green circles and all other museums are displayed as red circles.\n",
    "\n",
    "*Important note: You can change the distance radious by simply going back to slider in the previous step and change it to your preference. However, please keep in mind that the following cell also needs to be run again after any changes made to slider in order to update the results of the map*"
   ]
  },
  {
   "cell_type": "markdown",
   "id": "30c258e9-d62f-4a6d-b2ae-9f82cb64a9d8",
   "metadata": {},
   "source": [
    "<b><font color='red' size='3px'>USER</font></b>"
   ]
  },
  {
   "cell_type": "code",
   "execution_count": 19,
   "id": "35192221",
   "metadata": {},
   "outputs": [
    {
     "data": {
      "text/html": [
       "<div style=\"width:100%;\"><div style=\"position:relative;width:100%;height:0;padding-bottom:60%;\"><span style=\"color:#565656\">Make this Notebook Trusted to load map: File -> Trust Notebook</span><iframe src=\"about:blank\" style=\"position:absolute;width:100%;height:100%;left:0;top:0;border:none !important;\" data-html=%3C%21DOCTYPE%20html%3E%0A%3Chead%3E%20%20%20%20%0A%20%20%20%20%3Cmeta%20http-equiv%3D%22content-type%22%20content%3D%22text/html%3B%20charset%3DUTF-8%22%20/%3E%0A%20%20%20%20%0A%20%20%20%20%20%20%20%20%3Cscript%3E%0A%20%20%20%20%20%20%20%20%20%20%20%20L_NO_TOUCH%20%3D%20false%3B%0A%20%20%20%20%20%20%20%20%20%20%20%20L_DISABLE_3D%20%3D%20false%3B%0A%20%20%20%20%20%20%20%20%3C/script%3E%0A%20%20%20%20%0A%20%20%20%20%3Cstyle%3Ehtml%2C%20body%20%7Bwidth%3A%20100%25%3Bheight%3A%20100%25%3Bmargin%3A%200%3Bpadding%3A%200%3B%7D%3C/style%3E%0A%20%20%20%20%3Cstyle%3E%23map%20%7Bposition%3Aabsolute%3Btop%3A0%3Bbottom%3A0%3Bright%3A0%3Bleft%3A0%3B%7D%3C/style%3E%0A%20%20%20%20%3Cscript%20src%3D%22https%3A//cdn.jsdelivr.net/npm/leaflet%401.6.0/dist/leaflet.js%22%3E%3C/script%3E%0A%20%20%20%20%3Cscript%20src%3D%22https%3A//code.jquery.com/jquery-1.12.4.min.js%22%3E%3C/script%3E%0A%20%20%20%20%3Cscript%20src%3D%22https%3A//maxcdn.bootstrapcdn.com/bootstrap/3.2.0/js/bootstrap.min.js%22%3E%3C/script%3E%0A%20%20%20%20%3Cscript%20src%3D%22https%3A//cdnjs.cloudflare.com/ajax/libs/Leaflet.awesome-markers/2.0.2/leaflet.awesome-markers.js%22%3E%3C/script%3E%0A%20%20%20%20%3Clink%20rel%3D%22stylesheet%22%20href%3D%22https%3A//cdn.jsdelivr.net/npm/leaflet%401.6.0/dist/leaflet.css%22/%3E%0A%20%20%20%20%3Clink%20rel%3D%22stylesheet%22%20href%3D%22https%3A//maxcdn.bootstrapcdn.com/bootstrap/3.2.0/css/bootstrap.min.css%22/%3E%0A%20%20%20%20%3Clink%20rel%3D%22stylesheet%22%20href%3D%22https%3A//maxcdn.bootstrapcdn.com/bootstrap/3.2.0/css/bootstrap-theme.min.css%22/%3E%0A%20%20%20%20%3Clink%20rel%3D%22stylesheet%22%20href%3D%22https%3A//maxcdn.bootstrapcdn.com/font-awesome/4.6.3/css/font-awesome.min.css%22/%3E%0A%20%20%20%20%3Clink%20rel%3D%22stylesheet%22%20href%3D%22https%3A//cdnjs.cloudflare.com/ajax/libs/Leaflet.awesome-markers/2.0.2/leaflet.awesome-markers.css%22/%3E%0A%20%20%20%20%3Clink%20rel%3D%22stylesheet%22%20href%3D%22https%3A//cdn.jsdelivr.net/gh/python-visualization/folium/folium/templates/leaflet.awesome.rotate.min.css%22/%3E%0A%20%20%20%20%0A%20%20%20%20%20%20%20%20%20%20%20%20%3Cmeta%20name%3D%22viewport%22%20content%3D%22width%3Ddevice-width%2C%0A%20%20%20%20%20%20%20%20%20%20%20%20%20%20%20%20initial-scale%3D1.0%2C%20maximum-scale%3D1.0%2C%20user-scalable%3Dno%22%20/%3E%0A%20%20%20%20%20%20%20%20%20%20%20%20%3Cstyle%3E%0A%20%20%20%20%20%20%20%20%20%20%20%20%20%20%20%20%23map_e3e956cf89e2491f8fd36d710d2e5c30%20%7B%0A%20%20%20%20%20%20%20%20%20%20%20%20%20%20%20%20%20%20%20%20position%3A%20relative%3B%0A%20%20%20%20%20%20%20%20%20%20%20%20%20%20%20%20%20%20%20%20width%3A%20100.0%25%3B%0A%20%20%20%20%20%20%20%20%20%20%20%20%20%20%20%20%20%20%20%20height%3A%20100.0%25%3B%0A%20%20%20%20%20%20%20%20%20%20%20%20%20%20%20%20%20%20%20%20left%3A%200.0%25%3B%0A%20%20%20%20%20%20%20%20%20%20%20%20%20%20%20%20%20%20%20%20top%3A%200.0%25%3B%0A%20%20%20%20%20%20%20%20%20%20%20%20%20%20%20%20%7D%0A%20%20%20%20%20%20%20%20%20%20%20%20%3C/style%3E%0A%20%20%20%20%20%20%20%20%0A%3C/head%3E%0A%3Cbody%3E%20%20%20%20%0A%20%20%20%20%0A%20%20%20%20%20%20%20%20%20%20%20%20%3Cdiv%20class%3D%22folium-map%22%20id%3D%22map_e3e956cf89e2491f8fd36d710d2e5c30%22%20%3E%3C/div%3E%0A%20%20%20%20%20%20%20%20%0A%3C/body%3E%0A%3Cscript%3E%20%20%20%20%0A%20%20%20%20%0A%20%20%20%20%20%20%20%20%20%20%20%20var%20map_e3e956cf89e2491f8fd36d710d2e5c30%20%3D%20L.map%28%0A%20%20%20%20%20%20%20%20%20%20%20%20%20%20%20%20%22map_e3e956cf89e2491f8fd36d710d2e5c30%22%2C%0A%20%20%20%20%20%20%20%20%20%20%20%20%20%20%20%20%7B%0A%20%20%20%20%20%20%20%20%20%20%20%20%20%20%20%20%20%20%20%20center%3A%20%5B52.366258640000005%2C%204.886140884%5D%2C%0A%20%20%20%20%20%20%20%20%20%20%20%20%20%20%20%20%20%20%20%20crs%3A%20L.CRS.EPSG3857%2C%0A%20%20%20%20%20%20%20%20%20%20%20%20%20%20%20%20%20%20%20%20zoom%3A%2012%2C%0A%20%20%20%20%20%20%20%20%20%20%20%20%20%20%20%20%20%20%20%20zoomControl%3A%20true%2C%0A%20%20%20%20%20%20%20%20%20%20%20%20%20%20%20%20%20%20%20%20preferCanvas%3A%20false%2C%0A%20%20%20%20%20%20%20%20%20%20%20%20%20%20%20%20%7D%0A%20%20%20%20%20%20%20%20%20%20%20%20%29%3B%0A%0A%20%20%20%20%20%20%20%20%20%20%20%20%0A%0A%20%20%20%20%20%20%20%20%0A%20%20%20%20%0A%20%20%20%20%20%20%20%20%20%20%20%20var%20tile_layer_e72c41408ebe4d58b6db6e848fe90547%20%3D%20L.tileLayer%28%0A%20%20%20%20%20%20%20%20%20%20%20%20%20%20%20%20%22https%3A//%7Bs%7D.tile.openstreetmap.org/%7Bz%7D/%7Bx%7D/%7By%7D.png%22%2C%0A%20%20%20%20%20%20%20%20%20%20%20%20%20%20%20%20%7B%22attribution%22%3A%20%22Data%20by%20%5Cu0026copy%3B%20%5Cu003ca%20href%3D%5C%22http%3A//openstreetmap.org%5C%22%5Cu003eOpenStreetMap%5Cu003c/a%5Cu003e%2C%20under%20%5Cu003ca%20href%3D%5C%22http%3A//www.openstreetmap.org/copyright%5C%22%5Cu003eODbL%5Cu003c/a%5Cu003e.%22%2C%20%22detectRetina%22%3A%20false%2C%20%22maxNativeZoom%22%3A%2018%2C%20%22maxZoom%22%3A%2018%2C%20%22minZoom%22%3A%200%2C%20%22noWrap%22%3A%20false%2C%20%22opacity%22%3A%201%2C%20%22subdomains%22%3A%20%22abc%22%2C%20%22tms%22%3A%20false%7D%0A%20%20%20%20%20%20%20%20%20%20%20%20%29.addTo%28map_e3e956cf89e2491f8fd36d710d2e5c30%29%3B%0A%20%20%20%20%20%20%20%20%0A%20%20%20%20%0A%20%20%20%20%20%20%20%20%20%20%20%20var%20circle_marker_5d9ccada9fd647fdab8c0c21b3fa71e3%20%3D%20L.circleMarker%28%0A%20%20%20%20%20%20%20%20%20%20%20%20%20%20%20%20%5B52.36551%2C%204.891515%5D%2C%0A%20%20%20%20%20%20%20%20%20%20%20%20%20%20%20%20%7B%22bubblingMouseEvents%22%3A%20true%2C%20%22color%22%3A%20%22%2300ff00%22%2C%20%22dashArray%22%3A%20null%2C%20%22dashOffset%22%3A%20null%2C%20%22fill%22%3A%20true%2C%20%22fillColor%22%3A%20%22%2300ff00%22%2C%20%22fillOpacity%22%3A%200.2%2C%20%22fillRule%22%3A%20%22evenodd%22%2C%20%22lineCap%22%3A%20%22round%22%2C%20%22lineJoin%22%3A%20%22round%22%2C%20%22opacity%22%3A%201.0%2C%20%22radius%22%3A%2020%2C%20%22stroke%22%3A%20true%2C%20%22weight%22%3A%203%7D%0A%20%20%20%20%20%20%20%20%20%20%20%20%29.addTo%28map_e3e956cf89e2491f8fd36d710d2e5c30%29%3B%0A%20%20%20%20%20%20%20%20%0A%20%20%20%20%0A%20%20%20%20%20%20%20%20var%20popup_f1e911b2809e4cda9e50d0dce03b1a3b%20%3D%20L.popup%28%7B%22maxWidth%22%3A%20%22100%25%22%7D%29%3B%0A%0A%20%20%20%20%20%20%20%20%0A%20%20%20%20%20%20%20%20%20%20%20%20var%20html_6f8c931f502944b59057e4dfa77a42c1%20%3D%20%24%28%60%3Cdiv%20id%3D%22html_6f8c931f502944b59057e4dfa77a42c1%22%20style%3D%22width%3A%20100.0%25%3B%20height%3A%20100.0%25%3B%22%3ECat%20Cabinet%3C/div%3E%60%29%5B0%5D%3B%0A%20%20%20%20%20%20%20%20%20%20%20%20popup_f1e911b2809e4cda9e50d0dce03b1a3b.setContent%28html_6f8c931f502944b59057e4dfa77a42c1%29%3B%0A%20%20%20%20%20%20%20%20%0A%0A%20%20%20%20%20%20%20%20circle_marker_5d9ccada9fd647fdab8c0c21b3fa71e3.bindPopup%28popup_f1e911b2809e4cda9e50d0dce03b1a3b%29%0A%20%20%20%20%20%20%20%20%3B%0A%0A%20%20%20%20%20%20%20%20%0A%20%20%20%20%0A%20%20%20%20%0A%20%20%20%20%20%20%20%20%20%20%20%20var%20circle_marker_7ec74742814b4684ac7c455fb78d7e36%20%3D%20L.circleMarker%28%0A%20%20%20%20%20%20%20%20%20%20%20%20%20%20%20%20%5B52.3594%2C%204.8825%5D%2C%0A%20%20%20%20%20%20%20%20%20%20%20%20%20%20%20%20%7B%22bubblingMouseEvents%22%3A%20true%2C%20%22color%22%3A%20%22%2300ff00%22%2C%20%22dashArray%22%3A%20null%2C%20%22dashOffset%22%3A%20null%2C%20%22fill%22%3A%20true%2C%20%22fillColor%22%3A%20%22%2300ff00%22%2C%20%22fillOpacity%22%3A%200.2%2C%20%22fillRule%22%3A%20%22evenodd%22%2C%20%22lineCap%22%3A%20%22round%22%2C%20%22lineJoin%22%3A%20%22round%22%2C%20%22opacity%22%3A%201.0%2C%20%22radius%22%3A%2020%2C%20%22stroke%22%3A%20true%2C%20%22weight%22%3A%203%7D%0A%20%20%20%20%20%20%20%20%20%20%20%20%29.addTo%28map_e3e956cf89e2491f8fd36d710d2e5c30%29%3B%0A%20%20%20%20%20%20%20%20%0A%20%20%20%20%0A%20%20%20%20%20%20%20%20var%20popup_a34c987db83e4013806ad8ff5000c666%20%3D%20L.popup%28%7B%22maxWidth%22%3A%20%22100%25%22%7D%29%3B%0A%0A%20%20%20%20%20%20%20%20%0A%20%20%20%20%20%20%20%20%20%20%20%20var%20html_58eda28ae539445398180d43a9e43234%20%3D%20%24%28%60%3Cdiv%20id%3D%22html_58eda28ae539445398180d43a9e43234%22%20style%3D%22width%3A%20100.0%25%3B%20height%3A%20100.0%25%3B%22%3EDiamond%20Museum%20Amsterdam%3C/div%3E%60%29%5B0%5D%3B%0A%20%20%20%20%20%20%20%20%20%20%20%20popup_a34c987db83e4013806ad8ff5000c666.setContent%28html_58eda28ae539445398180d43a9e43234%29%3B%0A%20%20%20%20%20%20%20%20%0A%0A%20%20%20%20%20%20%20%20circle_marker_7ec74742814b4684ac7c455fb78d7e36.bindPopup%28popup_a34c987db83e4013806ad8ff5000c666%29%0A%20%20%20%20%20%20%20%20%3B%0A%0A%20%20%20%20%20%20%20%20%0A%20%20%20%20%0A%20%20%20%20%0A%20%20%20%20%20%20%20%20%20%20%20%20var%20circle_marker_1b2f877ee1324142a41597a4587cf748%20%3D%20L.circleMarker%28%0A%20%20%20%20%20%20%20%20%20%20%20%20%20%20%20%20%5B52.375656%2C%204.880696%5D%2C%0A%20%20%20%20%20%20%20%20%20%20%20%20%20%20%20%20%7B%22bubblingMouseEvents%22%3A%20true%2C%20%22color%22%3A%20%22%23e10000%22%2C%20%22dashArray%22%3A%20null%2C%20%22dashOffset%22%3A%20null%2C%20%22fill%22%3A%20true%2C%20%22fillColor%22%3A%20%22%23e10000%22%2C%20%22fillOpacity%22%3A%200.2%2C%20%22fillRule%22%3A%20%22evenodd%22%2C%20%22lineCap%22%3A%20%22round%22%2C%20%22lineJoin%22%3A%20%22round%22%2C%20%22opacity%22%3A%201.0%2C%20%22radius%22%3A%2020%2C%20%22stroke%22%3A%20true%2C%20%22weight%22%3A%203%7D%0A%20%20%20%20%20%20%20%20%20%20%20%20%29.addTo%28map_e3e956cf89e2491f8fd36d710d2e5c30%29%3B%0A%20%20%20%20%20%20%20%20%0A%20%20%20%20%0A%20%20%20%20%20%20%20%20var%20popup_fb809db08b344837b17f98630bfbc3dc%20%3D%20L.popup%28%7B%22maxWidth%22%3A%20%22100%25%22%7D%29%3B%0A%0A%20%20%20%20%20%20%20%20%0A%20%20%20%20%20%20%20%20%20%20%20%20var%20html_9b4ab14127f2497594216e3fcc979f43%20%3D%20%24%28%60%3Cdiv%20id%3D%22html_9b4ab14127f2497594216e3fcc979f43%22%20style%3D%22width%3A%20100.0%25%3B%20height%3A%20100.0%25%3B%22%3EElectric%20Ladyland%3C/div%3E%60%29%5B0%5D%3B%0A%20%20%20%20%20%20%20%20%20%20%20%20popup_fb809db08b344837b17f98630bfbc3dc.setContent%28html_9b4ab14127f2497594216e3fcc979f43%29%3B%0A%20%20%20%20%20%20%20%20%0A%0A%20%20%20%20%20%20%20%20circle_marker_1b2f877ee1324142a41597a4587cf748.bindPopup%28popup_fb809db08b344837b17f98630bfbc3dc%29%0A%20%20%20%20%20%20%20%20%3B%0A%0A%20%20%20%20%20%20%20%20%0A%20%20%20%20%0A%20%20%20%20%0A%20%20%20%20%20%20%20%20%20%20%20%20var%20circle_marker_47b1629b847542439c277926aab72339%20%3D%20L.circleMarker%28%0A%20%20%20%20%20%20%20%20%20%20%20%20%20%20%20%20%5B52.369373%2C%204.8896756%5D%2C%0A%20%20%20%20%20%20%20%20%20%20%20%20%20%20%20%20%7B%22bubblingMouseEvents%22%3A%20true%2C%20%22color%22%3A%20%22%23e10000%22%2C%20%22dashArray%22%3A%20null%2C%20%22dashOffset%22%3A%20null%2C%20%22fill%22%3A%20true%2C%20%22fillColor%22%3A%20%22%23e10000%22%2C%20%22fillOpacity%22%3A%200.2%2C%20%22fillRule%22%3A%20%22evenodd%22%2C%20%22lineCap%22%3A%20%22round%22%2C%20%22lineJoin%22%3A%20%22round%22%2C%20%22opacity%22%3A%201.0%2C%20%22radius%22%3A%2020%2C%20%22stroke%22%3A%20true%2C%20%22weight%22%3A%203%7D%0A%20%20%20%20%20%20%20%20%20%20%20%20%29.addTo%28map_e3e956cf89e2491f8fd36d710d2e5c30%29%3B%0A%20%20%20%20%20%20%20%20%0A%20%20%20%20%0A%20%20%20%20%20%20%20%20var%20popup_a0725e2925324deb8302a3c52a33de6c%20%3D%20L.popup%28%7B%22maxWidth%22%3A%20%22100%25%22%7D%29%3B%0A%0A%20%20%20%20%20%20%20%20%0A%20%20%20%20%20%20%20%20%20%20%20%20var%20html_d283bf3ba7bc497287d059e162a641d5%20%3D%20%24%28%60%3Cdiv%20id%3D%22html_d283bf3ba7bc497287d059e162a641d5%22%20style%3D%22width%3A%20100.0%25%3B%20height%3A%20100.0%25%3B%22%3EFashion%20for%20Good%20Museum%3C/div%3E%60%29%5B0%5D%3B%0A%20%20%20%20%20%20%20%20%20%20%20%20popup_a0725e2925324deb8302a3c52a33de6c.setContent%28html_d283bf3ba7bc497287d059e162a641d5%29%3B%0A%20%20%20%20%20%20%20%20%0A%0A%20%20%20%20%20%20%20%20circle_marker_47b1629b847542439c277926aab72339.bindPopup%28popup_a0725e2925324deb8302a3c52a33de6c%29%0A%20%20%20%20%20%20%20%20%3B%0A%0A%20%20%20%20%20%20%20%20%0A%20%20%20%20%0A%20%20%20%20%0A%20%20%20%20%20%20%20%20%20%20%20%20var%20circle_marker_43fb00eb5ded4a84a8ec79bc554ea4b2%20%3D%20L.circleMarker%28%0A%20%20%20%20%20%20%20%20%20%20%20%20%20%20%20%20%5B52.365%2C%204.9025%5D%2C%0A%20%20%20%20%20%20%20%20%20%20%20%20%20%20%20%20%7B%22bubblingMouseEvents%22%3A%20true%2C%20%22color%22%3A%20%22%23e10000%22%2C%20%22dashArray%22%3A%20null%2C%20%22dashOffset%22%3A%20null%2C%20%22fill%22%3A%20true%2C%20%22fillColor%22%3A%20%22%23e10000%22%2C%20%22fillOpacity%22%3A%200.2%2C%20%22fillRule%22%3A%20%22evenodd%22%2C%20%22lineCap%22%3A%20%22round%22%2C%20%22lineJoin%22%3A%20%22round%22%2C%20%22opacity%22%3A%201.0%2C%20%22radius%22%3A%2020%2C%20%22stroke%22%3A%20true%2C%20%22weight%22%3A%203%7D%0A%20%20%20%20%20%20%20%20%20%20%20%20%29.addTo%28map_e3e956cf89e2491f8fd36d710d2e5c30%29%3B%0A%20%20%20%20%20%20%20%20%0A%20%20%20%20%0A%20%20%20%20%20%20%20%20var%20popup_57b5398ba293439889586f1fb8cedccb%20%3D%20L.popup%28%7B%22maxWidth%22%3A%20%22100%25%22%7D%29%3B%0A%0A%20%20%20%20%20%20%20%20%0A%20%20%20%20%20%20%20%20%20%20%20%20var%20html_8151dfb4f85d4169a594d3ad51e88ad6%20%3D%20%24%28%60%3Cdiv%20id%3D%22html_8151dfb4f85d4169a594d3ad51e88ad6%22%20style%3D%22width%3A%20100.0%25%3B%20height%3A%20100.0%25%3B%22%3EHermitage%20Amsterdam%3C/div%3E%60%29%5B0%5D%3B%0A%20%20%20%20%20%20%20%20%20%20%20%20popup_57b5398ba293439889586f1fb8cedccb.setContent%28html_8151dfb4f85d4169a594d3ad51e88ad6%29%3B%0A%20%20%20%20%20%20%20%20%0A%0A%20%20%20%20%20%20%20%20circle_marker_43fb00eb5ded4a84a8ec79bc554ea4b2.bindPopup%28popup_57b5398ba293439889586f1fb8cedccb%29%0A%20%20%20%20%20%20%20%20%3B%0A%0A%20%20%20%20%20%20%20%20%0A%20%20%20%20%0A%20%20%20%20%0A%20%20%20%20%20%20%20%20%20%20%20%20var%20circle_marker_a8c8f9828c3f4d9f80df71e5a7bcae85%20%3D%20L.circleMarker%28%0A%20%20%20%20%20%20%20%20%20%20%20%20%20%20%20%20%5B52.36764%2C%204.882855%5D%2C%0A%20%20%20%20%20%20%20%20%20%20%20%20%20%20%20%20%7B%22bubblingMouseEvents%22%3A%20true%2C%20%22color%22%3A%20%22%2300ff00%22%2C%20%22dashArray%22%3A%20null%2C%20%22dashOffset%22%3A%20null%2C%20%22fill%22%3A%20true%2C%20%22fillColor%22%3A%20%22%2300ff00%22%2C%20%22fillOpacity%22%3A%200.2%2C%20%22fillRule%22%3A%20%22evenodd%22%2C%20%22lineCap%22%3A%20%22round%22%2C%20%22lineJoin%22%3A%20%22round%22%2C%20%22opacity%22%3A%201.0%2C%20%22radius%22%3A%2020%2C%20%22stroke%22%3A%20true%2C%20%22weight%22%3A%203%7D%0A%20%20%20%20%20%20%20%20%20%20%20%20%29.addTo%28map_e3e956cf89e2491f8fd36d710d2e5c30%29%3B%0A%20%20%20%20%20%20%20%20%0A%20%20%20%20%0A%20%20%20%20%20%20%20%20var%20popup_bca39510d99349e3b9ee0bc44dfa82e6%20%3D%20L.popup%28%7B%22maxWidth%22%3A%20%22100%25%22%7D%29%3B%0A%0A%20%20%20%20%20%20%20%20%0A%20%20%20%20%20%20%20%20%20%20%20%20var%20html_a5f17b91c6664d94ba36efc39d891ae0%20%3D%20%24%28%60%3Cdiv%20id%3D%22html_a5f17b91c6664d94ba36efc39d891ae0%22%20style%3D%22width%3A%20100.0%25%3B%20height%3A%20100.0%25%3B%22%3EHouse%20Marseille%3C/div%3E%60%29%5B0%5D%3B%0A%20%20%20%20%20%20%20%20%20%20%20%20popup_bca39510d99349e3b9ee0bc44dfa82e6.setContent%28html_a5f17b91c6664d94ba36efc39d891ae0%29%3B%0A%20%20%20%20%20%20%20%20%0A%0A%20%20%20%20%20%20%20%20circle_marker_a8c8f9828c3f4d9f80df71e5a7bcae85.bindPopup%28popup_bca39510d99349e3b9ee0bc44dfa82e6%29%0A%20%20%20%20%20%20%20%20%3B%0A%0A%20%20%20%20%20%20%20%20%0A%20%20%20%20%0A%20%20%20%20%0A%20%20%20%20%20%20%20%20%20%20%20%20var%20circle_marker_7bba2fe6c15543909361a406df69f672%20%3D%20L.circleMarker%28%0A%20%20%20%20%20%20%20%20%20%20%20%20%20%20%20%20%5B52.358715%2C%204.881892%5D%2C%0A%20%20%20%20%20%20%20%20%20%20%20%20%20%20%20%20%7B%22bubblingMouseEvents%22%3A%20true%2C%20%22color%22%3A%20%22%2300ff00%22%2C%20%22dashArray%22%3A%20null%2C%20%22dashOffset%22%3A%20null%2C%20%22fill%22%3A%20true%2C%20%22fillColor%22%3A%20%22%2300ff00%22%2C%20%22fillOpacity%22%3A%200.2%2C%20%22fillRule%22%3A%20%22evenodd%22%2C%20%22lineCap%22%3A%20%22round%22%2C%20%22lineJoin%22%3A%20%22round%22%2C%20%22opacity%22%3A%201.0%2C%20%22radius%22%3A%2020%2C%20%22stroke%22%3A%20true%2C%20%22weight%22%3A%203%7D%0A%20%20%20%20%20%20%20%20%20%20%20%20%29.addTo%28map_e3e956cf89e2491f8fd36d710d2e5c30%29%3B%0A%20%20%20%20%20%20%20%20%0A%20%20%20%20%0A%20%20%20%20%20%20%20%20var%20popup_81961532e0024d78b561d4284433d93d%20%3D%20L.popup%28%7B%22maxWidth%22%3A%20%22100%25%22%7D%29%3B%0A%0A%20%20%20%20%20%20%20%20%0A%20%20%20%20%20%20%20%20%20%20%20%20var%20html_e37eb2a89b0941eea8a126d0fdb5b4ee%20%3D%20%24%28%60%3Cdiv%20id%3D%22html_e37eb2a89b0941eea8a126d0fdb5b4ee%22%20style%3D%22width%3A%20100.0%25%3B%20height%3A%20100.0%25%3B%22%3EMoco%20Museum%3C/div%3E%60%29%5B0%5D%3B%0A%20%20%20%20%20%20%20%20%20%20%20%20popup_81961532e0024d78b561d4284433d93d.setContent%28html_e37eb2a89b0941eea8a126d0fdb5b4ee%29%3B%0A%20%20%20%20%20%20%20%20%0A%0A%20%20%20%20%20%20%20%20circle_marker_7bba2fe6c15543909361a406df69f672.bindPopup%28popup_81961532e0024d78b561d4284433d93d%29%0A%20%20%20%20%20%20%20%20%3B%0A%0A%20%20%20%20%20%20%20%20%0A%20%20%20%20%0A%20%20%20%20%0A%20%20%20%20%20%20%20%20%20%20%20%20var%20circle_marker_de2fd7898413406c8a0a282338a0dc38%20%3D%20L.circleMarker%28%0A%20%20%20%20%20%20%20%20%20%20%20%20%20%20%20%20%5B52.364204%2C%204.8867407%5D%2C%0A%20%20%20%20%20%20%20%20%20%20%20%20%20%20%20%20%7B%22bubblingMouseEvents%22%3A%20true%2C%20%22color%22%3A%20%22%2300ff00%22%2C%20%22dashArray%22%3A%20null%2C%20%22dashOffset%22%3A%20null%2C%20%22fill%22%3A%20true%2C%20%22fillColor%22%3A%20%22%2300ff00%22%2C%20%22fillOpacity%22%3A%200.2%2C%20%22fillRule%22%3A%20%22evenodd%22%2C%20%22lineCap%22%3A%20%22round%22%2C%20%22lineJoin%22%3A%20%22round%22%2C%20%22opacity%22%3A%201.0%2C%20%22radius%22%3A%2020%2C%20%22stroke%22%3A%20true%2C%20%22weight%22%3A%203%7D%0A%20%20%20%20%20%20%20%20%20%20%20%20%29.addTo%28map_e3e956cf89e2491f8fd36d710d2e5c30%29%3B%0A%20%20%20%20%20%20%20%20%0A%20%20%20%20%0A%20%20%20%20%20%20%20%20var%20popup_e822ab3e5bec4311b4d1e4940ed6095d%20%3D%20L.popup%28%7B%22maxWidth%22%3A%20%22100%25%22%7D%29%3B%0A%0A%20%20%20%20%20%20%20%20%0A%20%20%20%20%20%20%20%20%20%20%20%20var%20html_da7cb68f0868436abae70b244d12328e%20%3D%20%24%28%60%3Cdiv%20id%3D%22html_da7cb68f0868436abae70b244d12328e%22%20style%3D%22width%3A%20100.0%25%3B%20height%3A%20100.0%25%3B%22%3ENihon%20no%20hanga%20%E2%80%93%20Japanese%20Print%20Room%3C/div%3E%60%29%5B0%5D%3B%0A%20%20%20%20%20%20%20%20%20%20%20%20popup_e822ab3e5bec4311b4d1e4940ed6095d.setContent%28html_da7cb68f0868436abae70b244d12328e%29%3B%0A%20%20%20%20%20%20%20%20%0A%0A%20%20%20%20%20%20%20%20circle_marker_de2fd7898413406c8a0a282338a0dc38.bindPopup%28popup_e822ab3e5bec4311b4d1e4940ed6095d%29%0A%20%20%20%20%20%20%20%20%3B%0A%0A%20%20%20%20%20%20%20%20%0A%20%20%20%20%0A%20%20%20%20%0A%20%20%20%20%20%20%20%20%20%20%20%20var%20circle_marker_01de95ae8af149488d7ccf2396b054c2%20%3D%20L.circleMarker%28%0A%20%20%20%20%20%20%20%20%20%20%20%20%20%20%20%20%5B52.39122%2C%204.9022017%5D%2C%0A%20%20%20%20%20%20%20%20%20%20%20%20%20%20%20%20%7B%22bubblingMouseEvents%22%3A%20true%2C%20%22color%22%3A%20%22%23e10000%22%2C%20%22dashArray%22%3A%20null%2C%20%22dashOffset%22%3A%20null%2C%20%22fill%22%3A%20true%2C%20%22fillColor%22%3A%20%22%23e10000%22%2C%20%22fillOpacity%22%3A%200.2%2C%20%22fillRule%22%3A%20%22evenodd%22%2C%20%22lineCap%22%3A%20%22round%22%2C%20%22lineJoin%22%3A%20%22round%22%2C%20%22opacity%22%3A%201.0%2C%20%22radius%22%3A%2020%2C%20%22stroke%22%3A%20true%2C%20%22weight%22%3A%203%7D%0A%20%20%20%20%20%20%20%20%20%20%20%20%29.addTo%28map_e3e956cf89e2491f8fd36d710d2e5c30%29%3B%0A%20%20%20%20%20%20%20%20%0A%20%20%20%20%0A%20%20%20%20%20%20%20%20var%20popup_0b4909cbd61b4fd9919362d249a1c17c%20%3D%20L.popup%28%7B%22maxWidth%22%3A%20%22100%25%22%7D%29%3B%0A%0A%20%20%20%20%20%20%20%20%0A%20%20%20%20%20%20%20%20%20%20%20%20var%20html_989dcd271ccb4b8883cf55419e9f316e%20%3D%20%24%28%60%3Cdiv%20id%3D%22html_989dcd271ccb4b8883cf55419e9f316e%22%20style%3D%22width%3A%20100.0%25%3B%20height%3A%20100.0%25%3B%22%3ENxt%20Museum%3C/div%3E%60%29%5B0%5D%3B%0A%20%20%20%20%20%20%20%20%20%20%20%20popup_0b4909cbd61b4fd9919362d249a1c17c.setContent%28html_989dcd271ccb4b8883cf55419e9f316e%29%3B%0A%20%20%20%20%20%20%20%20%0A%0A%20%20%20%20%20%20%20%20circle_marker_01de95ae8af149488d7ccf2396b054c2.bindPopup%28popup_0b4909cbd61b4fd9919362d249a1c17c%29%0A%20%20%20%20%20%20%20%20%3B%0A%0A%20%20%20%20%20%20%20%20%0A%20%20%20%20%0A%20%20%20%20%0A%20%20%20%20%20%20%20%20%20%20%20%20var%20circle_marker_f65d73da4b7e4aa1922c7711b53b26ea%20%3D%20L.circleMarker%28%0A%20%20%20%20%20%20%20%20%20%20%20%20%20%20%20%20%5B52.314087%2C%204.9500375%5D%2C%0A%20%20%20%20%20%20%20%20%20%20%20%20%20%20%20%20%7B%22bubblingMouseEvents%22%3A%20true%2C%20%22color%22%3A%20%22%23e10000%22%2C%20%22dashArray%22%3A%20null%2C%20%22dashOffset%22%3A%20null%2C%20%22fill%22%3A%20true%2C%20%22fillColor%22%3A%20%22%23e10000%22%2C%20%22fillOpacity%22%3A%200.2%2C%20%22fillRule%22%3A%20%22evenodd%22%2C%20%22lineCap%22%3A%20%22round%22%2C%20%22lineJoin%22%3A%20%22round%22%2C%20%22opacity%22%3A%201.0%2C%20%22radius%22%3A%2020%2C%20%22stroke%22%3A%20true%2C%20%22weight%22%3A%203%7D%0A%20%20%20%20%20%20%20%20%20%20%20%20%29.addTo%28map_e3e956cf89e2491f8fd36d710d2e5c30%29%3B%0A%20%20%20%20%20%20%20%20%0A%20%20%20%20%0A%20%20%20%20%20%20%20%20var%20popup_1c07805ba75344a5957c8c1767d0b7e2%20%3D%20L.popup%28%7B%22maxWidth%22%3A%20%22100%25%22%7D%29%3B%0A%0A%20%20%20%20%20%20%20%20%0A%20%20%20%20%20%20%20%20%20%20%20%20var%20html_f003eb6ac9114411ae3dc24ce6233e51%20%3D%20%24%28%60%3Cdiv%20id%3D%22html_f003eb6ac9114411ae3dc24ce6233e51%22%20style%3D%22width%3A%20100.0%25%3B%20height%3A%20100.0%25%3B%22%3EOSCAM%20-%20Open%20Space%20Contemporary%20Art%20Museum%3C/div%3E%60%29%5B0%5D%3B%0A%20%20%20%20%20%20%20%20%20%20%20%20popup_1c07805ba75344a5957c8c1767d0b7e2.setContent%28html_f003eb6ac9114411ae3dc24ce6233e51%29%3B%0A%20%20%20%20%20%20%20%20%0A%0A%20%20%20%20%20%20%20%20circle_marker_f65d73da4b7e4aa1922c7711b53b26ea.bindPopup%28popup_1c07805ba75344a5957c8c1767d0b7e2%29%0A%20%20%20%20%20%20%20%20%3B%0A%0A%20%20%20%20%20%20%20%20%0A%20%20%20%20%0A%20%20%20%20%0A%20%20%20%20%20%20%20%20%20%20%20%20var%20circle_marker_518b441112cf47c8b963f360811e3372%20%3D%20L.circleMarker%28%0A%20%20%20%20%20%20%20%20%20%20%20%20%20%20%20%20%5B52.374367%2C%204.896018%5D%2C%0A%20%20%20%20%20%20%20%20%20%20%20%20%20%20%20%20%7B%22bubblingMouseEvents%22%3A%20true%2C%20%22color%22%3A%20%22%23e10000%22%2C%20%22dashArray%22%3A%20null%2C%20%22dashOffset%22%3A%20null%2C%20%22fill%22%3A%20true%2C%20%22fillColor%22%3A%20%22%23e10000%22%2C%20%22fillOpacity%22%3A%200.2%2C%20%22fillRule%22%3A%20%22evenodd%22%2C%20%22lineCap%22%3A%20%22round%22%2C%20%22lineJoin%22%3A%20%22round%22%2C%20%22opacity%22%3A%201.0%2C%20%22radius%22%3A%2020%2C%20%22stroke%22%3A%20true%2C%20%22weight%22%3A%203%7D%0A%20%20%20%20%20%20%20%20%20%20%20%20%29.addTo%28map_e3e956cf89e2491f8fd36d710d2e5c30%29%3B%0A%20%20%20%20%20%20%20%20%0A%20%20%20%20%0A%20%20%20%20%20%20%20%20var%20popup_1ecccd2305304195880bc24ea36fde10%20%3D%20L.popup%28%7B%22maxWidth%22%3A%20%22100%25%22%7D%29%3B%0A%0A%20%20%20%20%20%20%20%20%0A%20%20%20%20%20%20%20%20%20%20%20%20var%20html_d9344cf69b9d4b839892b5016a5f3afc%20%3D%20%24%28%60%3Cdiv%20id%3D%22html_d9344cf69b9d4b839892b5016a5f3afc%22%20style%3D%22width%3A%20100.0%25%3B%20height%3A%20100.0%25%3B%22%3EOld%20Church%3C/div%3E%60%29%5B0%5D%3B%0A%20%20%20%20%20%20%20%20%20%20%20%20popup_1ecccd2305304195880bc24ea36fde10.setContent%28html_d9344cf69b9d4b839892b5016a5f3afc%29%3B%0A%20%20%20%20%20%20%20%20%0A%0A%20%20%20%20%20%20%20%20circle_marker_518b441112cf47c8b963f360811e3372.bindPopup%28popup_1ecccd2305304195880bc24ea36fde10%29%0A%20%20%20%20%20%20%20%20%3B%0A%0A%20%20%20%20%20%20%20%20%0A%20%20%20%20%0A%20%20%20%20%0A%20%20%20%20%20%20%20%20%20%20%20%20var%20circle_marker_3def49573d004e519010124f86477e76%20%3D%20L.circleMarker%28%0A%20%20%20%20%20%20%20%20%20%20%20%20%20%20%20%20%5B52.365772%2C%204.9005933%5D%2C%0A%20%20%20%20%20%20%20%20%20%20%20%20%20%20%20%20%7B%22bubblingMouseEvents%22%3A%20true%2C%20%22color%22%3A%20%22%23e10000%22%2C%20%22dashArray%22%3A%20null%2C%20%22dashOffset%22%3A%20null%2C%20%22fill%22%3A%20true%2C%20%22fillColor%22%3A%20%22%23e10000%22%2C%20%22fillOpacity%22%3A%200.2%2C%20%22fillRule%22%3A%20%22evenodd%22%2C%20%22lineCap%22%3A%20%22round%22%2C%20%22lineJoin%22%3A%20%22round%22%2C%20%22opacity%22%3A%201.0%2C%20%22radius%22%3A%2020%2C%20%22stroke%22%3A%20true%2C%20%22weight%22%3A%203%7D%0A%20%20%20%20%20%20%20%20%20%20%20%20%29.addTo%28map_e3e956cf89e2491f8fd36d710d2e5c30%29%3B%0A%20%20%20%20%20%20%20%20%0A%20%20%20%20%0A%20%20%20%20%20%20%20%20var%20popup_ce8672c368944cbda4e8bc5204f57e94%20%3D%20L.popup%28%7B%22maxWidth%22%3A%20%22100%25%22%7D%29%3B%0A%0A%20%20%20%20%20%20%20%20%0A%20%20%20%20%20%20%20%20%20%20%20%20var%20html_203c51954aef4f6c8cce4e2739f76402%20%3D%20%24%28%60%3Cdiv%20id%3D%22html_203c51954aef4f6c8cce4e2739f76402%22%20style%3D%22width%3A%20100.0%25%3B%20height%3A%20100.0%25%3B%22%3EOutsider%20Art%20Museum%3C/div%3E%60%29%5B0%5D%3B%0A%20%20%20%20%20%20%20%20%20%20%20%20popup_ce8672c368944cbda4e8bc5204f57e94.setContent%28html_203c51954aef4f6c8cce4e2739f76402%29%3B%0A%20%20%20%20%20%20%20%20%0A%0A%20%20%20%20%20%20%20%20circle_marker_3def49573d004e519010124f86477e76.bindPopup%28popup_ce8672c368944cbda4e8bc5204f57e94%29%0A%20%20%20%20%20%20%20%20%3B%0A%0A%20%20%20%20%20%20%20%20%0A%20%20%20%20%0A%20%20%20%20%0A%20%20%20%20%20%20%20%20%20%20%20%20var%20circle_marker_df48c978a48c4d9fa2229d4a7032611a%20%3D%20L.circleMarker%28%0A%20%20%20%20%20%20%20%20%20%20%20%20%20%20%20%20%5B52.367073%2C%204.937687%5D%2C%0A%20%20%20%20%20%20%20%20%20%20%20%20%20%20%20%20%7B%22bubblingMouseEvents%22%3A%20true%2C%20%22color%22%3A%20%22%23e10000%22%2C%20%22dashArray%22%3A%20null%2C%20%22dashOffset%22%3A%20null%2C%20%22fill%22%3A%20true%2C%20%22fillColor%22%3A%20%22%23e10000%22%2C%20%22fillOpacity%22%3A%200.2%2C%20%22fillRule%22%3A%20%22evenodd%22%2C%20%22lineCap%22%3A%20%22round%22%2C%20%22lineJoin%22%3A%20%22round%22%2C%20%22opacity%22%3A%201.0%2C%20%22radius%22%3A%2020%2C%20%22stroke%22%3A%20true%2C%20%22weight%22%3A%203%7D%0A%20%20%20%20%20%20%20%20%20%20%20%20%29.addTo%28map_e3e956cf89e2491f8fd36d710d2e5c30%29%3B%0A%20%20%20%20%20%20%20%20%0A%20%20%20%20%0A%20%20%20%20%20%20%20%20var%20popup_cd7ba1dfb2974efaa3cbbfaaccf0dd71%20%3D%20L.popup%28%7B%22maxWidth%22%3A%20%22100%25%22%7D%29%3B%0A%0A%20%20%20%20%20%20%20%20%0A%20%20%20%20%20%20%20%20%20%20%20%20var%20html_eef6ff4c2ee44ad895c01de887a113c6%20%3D%20%24%28%60%3Cdiv%20id%3D%22html_eef6ff4c2ee44ad895c01de887a113c6%22%20style%3D%22width%3A%20100.0%25%3B%20height%3A%20100.0%25%3B%22%3EP//////AKT%3C/div%3E%60%29%5B0%5D%3B%0A%20%20%20%20%20%20%20%20%20%20%20%20popup_cd7ba1dfb2974efaa3cbbfaaccf0dd71.setContent%28html_eef6ff4c2ee44ad895c01de887a113c6%29%3B%0A%20%20%20%20%20%20%20%20%0A%0A%20%20%20%20%20%20%20%20circle_marker_df48c978a48c4d9fa2229d4a7032611a.bindPopup%28popup_cd7ba1dfb2974efaa3cbbfaaccf0dd71%29%0A%20%20%20%20%20%20%20%20%3B%0A%0A%20%20%20%20%20%20%20%20%0A%20%20%20%20%0A%20%20%20%20%0A%20%20%20%20%20%20%20%20%20%20%20%20var%20circle_marker_95e7c113782d43b6a31e31e049cf051c%20%3D%20L.circleMarker%28%0A%20%20%20%20%20%20%20%20%20%20%20%20%20%20%20%20%5B52.404003%2C%204.890881%5D%2C%0A%20%20%20%20%20%20%20%20%20%20%20%20%20%20%20%20%7B%22bubblingMouseEvents%22%3A%20true%2C%20%22color%22%3A%20%22%23e10000%22%2C%20%22dashArray%22%3A%20null%2C%20%22dashOffset%22%3A%20null%2C%20%22fill%22%3A%20true%2C%20%22fillColor%22%3A%20%22%23e10000%22%2C%20%22fillOpacity%22%3A%200.2%2C%20%22fillRule%22%3A%20%22evenodd%22%2C%20%22lineCap%22%3A%20%22round%22%2C%20%22lineJoin%22%3A%20%22round%22%2C%20%22opacity%22%3A%201.0%2C%20%22radius%22%3A%2020%2C%20%22stroke%22%3A%20true%2C%20%22weight%22%3A%203%7D%0A%20%20%20%20%20%20%20%20%20%20%20%20%29.addTo%28map_e3e956cf89e2491f8fd36d710d2e5c30%29%3B%0A%20%20%20%20%20%20%20%20%0A%20%20%20%20%0A%20%20%20%20%20%20%20%20var%20popup_b51d28b5ab964b04922277fc169c7986%20%3D%20L.popup%28%7B%22maxWidth%22%3A%20%22100%25%22%7D%29%3B%0A%0A%20%20%20%20%20%20%20%20%0A%20%20%20%20%20%20%20%20%20%20%20%20var%20html_1580275715f242408cc18fcc6b85fdab%20%3D%20%24%28%60%3Cdiv%20id%3D%22html_1580275715f242408cc18fcc6b85fdab%22%20style%3D%22width%3A%20100.0%25%3B%20height%3A%20100.0%25%3B%22%3EProject%20Space%20On%20The%20Inside%3C/div%3E%60%29%5B0%5D%3B%0A%20%20%20%20%20%20%20%20%20%20%20%20popup_b51d28b5ab964b04922277fc169c7986.setContent%28html_1580275715f242408cc18fcc6b85fdab%29%3B%0A%20%20%20%20%20%20%20%20%0A%0A%20%20%20%20%20%20%20%20circle_marker_95e7c113782d43b6a31e31e049cf051c.bindPopup%28popup_b51d28b5ab964b04922277fc169c7986%29%0A%20%20%20%20%20%20%20%20%3B%0A%0A%20%20%20%20%20%20%20%20%0A%20%20%20%20%0A%20%20%20%20%0A%20%20%20%20%20%20%20%20%20%20%20%20var%20circle_marker_f6fbc9dca6894d4a9b1d35a134f42ac6%20%3D%20L.circleMarker%28%0A%20%20%20%20%20%20%20%20%20%20%20%20%20%20%20%20%5B52.369446%2C%204.901389%5D%2C%0A%20%20%20%20%20%20%20%20%20%20%20%20%20%20%20%20%7B%22bubblingMouseEvents%22%3A%20true%2C%20%22color%22%3A%20%22%23e10000%22%2C%20%22dashArray%22%3A%20null%2C%20%22dashOffset%22%3A%20null%2C%20%22fill%22%3A%20true%2C%20%22fillColor%22%3A%20%22%23e10000%22%2C%20%22fillOpacity%22%3A%200.2%2C%20%22fillRule%22%3A%20%22evenodd%22%2C%20%22lineCap%22%3A%20%22round%22%2C%20%22lineJoin%22%3A%20%22round%22%2C%20%22opacity%22%3A%201.0%2C%20%22radius%22%3A%2020%2C%20%22stroke%22%3A%20true%2C%20%22weight%22%3A%203%7D%0A%20%20%20%20%20%20%20%20%20%20%20%20%29.addTo%28map_e3e956cf89e2491f8fd36d710d2e5c30%29%3B%0A%20%20%20%20%20%20%20%20%0A%20%20%20%20%0A%20%20%20%20%20%20%20%20var%20popup_5d965ef2496343e3804faaf52104000d%20%3D%20L.popup%28%7B%22maxWidth%22%3A%20%22100%25%22%7D%29%3B%0A%0A%20%20%20%20%20%20%20%20%0A%20%20%20%20%20%20%20%20%20%20%20%20var%20html_ac281fcfda22468c991c0a1bebbef9a4%20%3D%20%24%28%60%3Cdiv%20id%3D%22html_ac281fcfda22468c991c0a1bebbef9a4%22%20style%3D%22width%3A%20100.0%25%3B%20height%3A%20100.0%25%3B%22%3ERembrandt%20House%20Museum%3C/div%3E%60%29%5B0%5D%3B%0A%20%20%20%20%20%20%20%20%20%20%20%20popup_5d965ef2496343e3804faaf52104000d.setContent%28html_ac281fcfda22468c991c0a1bebbef9a4%29%3B%0A%20%20%20%20%20%20%20%20%0A%0A%20%20%20%20%20%20%20%20circle_marker_f6fbc9dca6894d4a9b1d35a134f42ac6.bindPopup%28popup_5d965ef2496343e3804faaf52104000d%29%0A%20%20%20%20%20%20%20%20%3B%0A%0A%20%20%20%20%20%20%20%20%0A%20%20%20%20%0A%20%20%20%20%0A%20%20%20%20%20%20%20%20%20%20%20%20var%20circle_marker_a60c60ba199f4a328d8423bb8a0c3f70%20%3D%20L.circleMarker%28%0A%20%20%20%20%20%20%20%20%20%20%20%20%20%20%20%20%5B52.3581%2C%204.87972%5D%2C%0A%20%20%20%20%20%20%20%20%20%20%20%20%20%20%20%20%7B%22bubblingMouseEvents%22%3A%20true%2C%20%22color%22%3A%20%22%2300ff00%22%2C%20%22dashArray%22%3A%20null%2C%20%22dashOffset%22%3A%20null%2C%20%22fill%22%3A%20true%2C%20%22fillColor%22%3A%20%22%2300ff00%22%2C%20%22fillOpacity%22%3A%200.2%2C%20%22fillRule%22%3A%20%22evenodd%22%2C%20%22lineCap%22%3A%20%22round%22%2C%20%22lineJoin%22%3A%20%22round%22%2C%20%22opacity%22%3A%201.0%2C%20%22radius%22%3A%2020%2C%20%22stroke%22%3A%20true%2C%20%22weight%22%3A%203%7D%0A%20%20%20%20%20%20%20%20%20%20%20%20%29.addTo%28map_e3e956cf89e2491f8fd36d710d2e5c30%29%3B%0A%20%20%20%20%20%20%20%20%0A%20%20%20%20%0A%20%20%20%20%20%20%20%20var%20popup_ed388ba03fc44c3691e5c5e31482368c%20%3D%20L.popup%28%7B%22maxWidth%22%3A%20%22100%25%22%7D%29%3B%0A%0A%20%20%20%20%20%20%20%20%0A%20%20%20%20%20%20%20%20%20%20%20%20var%20html_140697c227744cec8ca02ffa23a37530%20%3D%20%24%28%60%3Cdiv%20id%3D%22html_140697c227744cec8ca02ffa23a37530%22%20style%3D%22width%3A%20100.0%25%3B%20height%3A%20100.0%25%3B%22%3EStedelijk%20Museum%20Amsterdam%3C/div%3E%60%29%5B0%5D%3B%0A%20%20%20%20%20%20%20%20%20%20%20%20popup_ed388ba03fc44c3691e5c5e31482368c.setContent%28html_140697c227744cec8ca02ffa23a37530%29%3B%0A%20%20%20%20%20%20%20%20%0A%0A%20%20%20%20%20%20%20%20circle_marker_a60c60ba199f4a328d8423bb8a0c3f70.bindPopup%28popup_ed388ba03fc44c3691e5c5e31482368c%29%0A%20%20%20%20%20%20%20%20%3B%0A%0A%20%20%20%20%20%20%20%20%0A%20%20%20%20%0A%20%20%20%20%0A%20%20%20%20%20%20%20%20%20%20%20%20var%20circle_marker_3bbf26620ce440debba4a9668d909dc6%20%3D%20L.circleMarker%28%0A%20%20%20%20%20%20%20%20%20%20%20%20%20%20%20%20%5B52.375195%2C%204.815119%5D%2C%0A%20%20%20%20%20%20%20%20%20%20%20%20%20%20%20%20%7B%22bubblingMouseEvents%22%3A%20true%2C%20%22color%22%3A%20%22%23e10000%22%2C%20%22dashArray%22%3A%20null%2C%20%22dashOffset%22%3A%20null%2C%20%22fill%22%3A%20true%2C%20%22fillColor%22%3A%20%22%23e10000%22%2C%20%22fillOpacity%22%3A%200.2%2C%20%22fillRule%22%3A%20%22evenodd%22%2C%20%22lineCap%22%3A%20%22round%22%2C%20%22lineJoin%22%3A%20%22round%22%2C%20%22opacity%22%3A%201.0%2C%20%22radius%22%3A%2020%2C%20%22stroke%22%3A%20true%2C%20%22weight%22%3A%203%7D%0A%20%20%20%20%20%20%20%20%20%20%20%20%29.addTo%28map_e3e956cf89e2491f8fd36d710d2e5c30%29%3B%0A%20%20%20%20%20%20%20%20%0A%20%20%20%20%0A%20%20%20%20%20%20%20%20var%20popup_f85aeab886694ff8969a7cec25394c43%20%3D%20L.popup%28%7B%22maxWidth%22%3A%20%22100%25%22%7D%29%3B%0A%0A%20%20%20%20%20%20%20%20%0A%20%20%20%20%20%20%20%20%20%20%20%20var%20html_89113e53fdd243cb9d50d5a566e7c1c0%20%3D%20%24%28%60%3Cdiv%20id%3D%22html_89113e53fdd243cb9d50d5a566e7c1c0%22%20style%3D%22width%3A%20100.0%25%3B%20height%3A%20100.0%25%3B%22%3EStreet%20Art%20Museum%20Amsterdam%3C/div%3E%60%29%5B0%5D%3B%0A%20%20%20%20%20%20%20%20%20%20%20%20popup_f85aeab886694ff8969a7cec25394c43.setContent%28html_89113e53fdd243cb9d50d5a566e7c1c0%29%3B%0A%20%20%20%20%20%20%20%20%0A%0A%20%20%20%20%20%20%20%20circle_marker_3bbf26620ce440debba4a9668d909dc6.bindPopup%28popup_f85aeab886694ff8969a7cec25394c43%29%0A%20%20%20%20%20%20%20%20%3B%0A%0A%20%20%20%20%20%20%20%20%0A%20%20%20%20%0A%20%20%20%20%0A%20%20%20%20%20%20%20%20%20%20%20%20var%20circle_marker_aa3e2a820a9842368624737151e1bb37%20%3D%20L.circleMarker%28%0A%20%20%20%20%20%20%20%20%20%20%20%20%20%20%20%20%5B52.357376%2C%204.8381233%5D%2C%0A%20%20%20%20%20%20%20%20%20%20%20%20%20%20%20%20%7B%22bubblingMouseEvents%22%3A%20true%2C%20%22color%22%3A%20%22%2300ff00%22%2C%20%22dashArray%22%3A%20null%2C%20%22dashOffset%22%3A%20null%2C%20%22fill%22%3A%20true%2C%20%22fillColor%22%3A%20%22%2300ff00%22%2C%20%22fillOpacity%22%3A%200.2%2C%20%22fillRule%22%3A%20%22evenodd%22%2C%20%22lineCap%22%3A%20%22round%22%2C%20%22lineJoin%22%3A%20%22round%22%2C%20%22opacity%22%3A%201.0%2C%20%22radius%22%3A%2020%2C%20%22stroke%22%3A%20true%2C%20%22weight%22%3A%203%7D%0A%20%20%20%20%20%20%20%20%20%20%20%20%29.addTo%28map_e3e956cf89e2491f8fd36d710d2e5c30%29%3B%0A%20%20%20%20%20%20%20%20%0A%20%20%20%20%0A%20%20%20%20%20%20%20%20var%20popup_d76bd43f16b34e68a067f8ff1a781ca1%20%3D%20L.popup%28%7B%22maxWidth%22%3A%20%22100%25%22%7D%29%3B%0A%0A%20%20%20%20%20%20%20%20%0A%20%20%20%20%20%20%20%20%20%20%20%20var%20html_5f03524566fd4d34bdc9c4db0d5bd03d%20%3D%20%24%28%60%3Cdiv%20id%3D%22html_5f03524566fd4d34bdc9c4db0d5bd03d%22%20style%3D%22width%3A%20100.0%25%3B%20height%3A%20100.0%25%3B%22%3EThe%20Apple%3C/div%3E%60%29%5B0%5D%3B%0A%20%20%20%20%20%20%20%20%20%20%20%20popup_d76bd43f16b34e68a067f8ff1a781ca1.setContent%28html_5f03524566fd4d34bdc9c4db0d5bd03d%29%3B%0A%20%20%20%20%20%20%20%20%0A%0A%20%20%20%20%20%20%20%20circle_marker_aa3e2a820a9842368624737151e1bb37.bindPopup%28popup_d76bd43f16b34e68a067f8ff1a781ca1%29%0A%20%20%20%20%20%20%20%20%3B%0A%0A%20%20%20%20%20%20%20%20%0A%20%20%20%20%0A%20%20%20%20%0A%20%20%20%20%20%20%20%20%20%20%20%20var%20circle_marker_1744847db9b74378bd21094a9d45095a%20%3D%20L.circleMarker%28%0A%20%20%20%20%20%20%20%20%20%20%20%20%20%20%20%20%5B52.373905%2C%204.889621%5D%2C%0A%20%20%20%20%20%20%20%20%20%20%20%20%20%20%20%20%7B%22bubblingMouseEvents%22%3A%20true%2C%20%22color%22%3A%20%22%23e10000%22%2C%20%22dashArray%22%3A%20null%2C%20%22dashOffset%22%3A%20null%2C%20%22fill%22%3A%20true%2C%20%22fillColor%22%3A%20%22%23e10000%22%2C%20%22fillOpacity%22%3A%200.2%2C%20%22fillRule%22%3A%20%22evenodd%22%2C%20%22lineCap%22%3A%20%22round%22%2C%20%22lineJoin%22%3A%20%22round%22%2C%20%22opacity%22%3A%201.0%2C%20%22radius%22%3A%2020%2C%20%22stroke%22%3A%20true%2C%20%22weight%22%3A%203%7D%0A%20%20%20%20%20%20%20%20%20%20%20%20%29.addTo%28map_e3e956cf89e2491f8fd36d710d2e5c30%29%3B%0A%20%20%20%20%20%20%20%20%0A%20%20%20%20%0A%20%20%20%20%20%20%20%20var%20popup_5b76287f68b44df2b0e322c6e9446adc%20%3D%20L.popup%28%7B%22maxWidth%22%3A%20%22100%25%22%7D%29%3B%0A%0A%20%20%20%20%20%20%20%20%0A%20%20%20%20%20%20%20%20%20%20%20%20var%20html_1e744d46d9d34f6aa2ee4578ab1d5a5a%20%3D%20%24%28%60%3Cdiv%20id%3D%22html_1e744d46d9d34f6aa2ee4578ab1d5a5a%22%20style%3D%22width%3A%20100.0%25%3B%20height%3A%20100.0%25%3B%22%3EThe%20New%20Church%20Amsterdam%3C/div%3E%60%29%5B0%5D%3B%0A%20%20%20%20%20%20%20%20%20%20%20%20popup_5b76287f68b44df2b0e322c6e9446adc.setContent%28html_1e744d46d9d34f6aa2ee4578ab1d5a5a%29%3B%0A%20%20%20%20%20%20%20%20%0A%0A%20%20%20%20%20%20%20%20circle_marker_1744847db9b74378bd21094a9d45095a.bindPopup%28popup_5b76287f68b44df2b0e322c6e9446adc%29%0A%20%20%20%20%20%20%20%20%3B%0A%0A%20%20%20%20%20%20%20%20%0A%20%20%20%20%0A%20%20%20%20%0A%20%20%20%20%20%20%20%20%20%20%20%20var%20circle_marker_4ae35d3b3e794c749762b69cec3c2fbe%20%3D%20L.circleMarker%28%0A%20%20%20%20%20%20%20%20%20%20%20%20%20%20%20%20%5B52.380043%2C%204.827096%5D%2C%0A%20%20%20%20%20%20%20%20%20%20%20%20%20%20%20%20%7B%22bubblingMouseEvents%22%3A%20true%2C%20%22color%22%3A%20%22%23e10000%22%2C%20%22dashArray%22%3A%20null%2C%20%22dashOffset%22%3A%20null%2C%20%22fill%22%3A%20true%2C%20%22fillColor%22%3A%20%22%23e10000%22%2C%20%22fillOpacity%22%3A%200.2%2C%20%22fillRule%22%3A%20%22evenodd%22%2C%20%22lineCap%22%3A%20%22round%22%2C%20%22lineJoin%22%3A%20%22round%22%2C%20%22opacity%22%3A%201.0%2C%20%22radius%22%3A%2020%2C%20%22stroke%22%3A%20true%2C%20%22weight%22%3A%203%7D%0A%20%20%20%20%20%20%20%20%20%20%20%20%29.addTo%28map_e3e956cf89e2491f8fd36d710d2e5c30%29%3B%0A%20%20%20%20%20%20%20%20%0A%20%20%20%20%0A%20%20%20%20%20%20%20%20var%20popup_5e62b6c81330435b818c83da1896f5fa%20%3D%20L.popup%28%7B%22maxWidth%22%3A%20%22100%25%22%7D%29%3B%0A%0A%20%20%20%20%20%20%20%20%0A%20%20%20%20%20%20%20%20%20%20%20%20var%20html_44641f0952a44aa497a93c6480f400dd%20%3D%20%24%28%60%3Cdiv%20id%3D%22html_44641f0952a44aa497a93c6480f400dd%22%20style%3D%22width%3A%20100.0%25%3B%20height%3A%20100.0%25%3B%22%3EVan%20Eesteren%20Museum%3C/div%3E%60%29%5B0%5D%3B%0A%20%20%20%20%20%20%20%20%20%20%20%20popup_5e62b6c81330435b818c83da1896f5fa.setContent%28html_44641f0952a44aa497a93c6480f400dd%29%3B%0A%20%20%20%20%20%20%20%20%0A%0A%20%20%20%20%20%20%20%20circle_marker_4ae35d3b3e794c749762b69cec3c2fbe.bindPopup%28popup_5e62b6c81330435b818c83da1896f5fa%29%0A%20%20%20%20%20%20%20%20%3B%0A%0A%20%20%20%20%20%20%20%20%0A%20%20%20%20%0A%20%20%20%20%0A%20%20%20%20%20%20%20%20%20%20%20%20var%20circle_marker_30a1c1e1417745aca33b823676f0b087%20%3D%20L.circleMarker%28%0A%20%20%20%20%20%20%20%20%20%20%20%20%20%20%20%20%5B52.3583%2C%204.88111%5D%2C%0A%20%20%20%20%20%20%20%20%20%20%20%20%20%20%20%20%7B%22bubblingMouseEvents%22%3A%20true%2C%20%22color%22%3A%20%22%2300ff00%22%2C%20%22dashArray%22%3A%20null%2C%20%22dashOffset%22%3A%20null%2C%20%22fill%22%3A%20true%2C%20%22fillColor%22%3A%20%22%2300ff00%22%2C%20%22fillOpacity%22%3A%200.2%2C%20%22fillRule%22%3A%20%22evenodd%22%2C%20%22lineCap%22%3A%20%22round%22%2C%20%22lineJoin%22%3A%20%22round%22%2C%20%22opacity%22%3A%201.0%2C%20%22radius%22%3A%2020%2C%20%22stroke%22%3A%20true%2C%20%22weight%22%3A%203%7D%0A%20%20%20%20%20%20%20%20%20%20%20%20%29.addTo%28map_e3e956cf89e2491f8fd36d710d2e5c30%29%3B%0A%20%20%20%20%20%20%20%20%0A%20%20%20%20%0A%20%20%20%20%20%20%20%20var%20popup_478f178f4c094c6cbb2c90d2df567cc2%20%3D%20L.popup%28%7B%22maxWidth%22%3A%20%22100%25%22%7D%29%3B%0A%0A%20%20%20%20%20%20%20%20%0A%20%20%20%20%20%20%20%20%20%20%20%20var%20html_360e3c0fdc8046be98a6705453329916%20%3D%20%24%28%60%3Cdiv%20id%3D%22html_360e3c0fdc8046be98a6705453329916%22%20style%3D%22width%3A%20100.0%25%3B%20height%3A%20100.0%25%3B%22%3EVan%20Gogh%20Museum%3C/div%3E%60%29%5B0%5D%3B%0A%20%20%20%20%20%20%20%20%20%20%20%20popup_478f178f4c094c6cbb2c90d2df567cc2.setContent%28html_360e3c0fdc8046be98a6705453329916%29%3B%0A%20%20%20%20%20%20%20%20%0A%0A%20%20%20%20%20%20%20%20circle_marker_30a1c1e1417745aca33b823676f0b087.bindPopup%28popup_478f178f4c094c6cbb2c90d2df567cc2%29%0A%20%20%20%20%20%20%20%20%3B%0A%0A%20%20%20%20%20%20%20%20%0A%20%20%20%20%0A%20%20%20%20%0A%20%20%20%20%20%20%20%20%20%20%20%20var%20circle_marker_9313e552a77f4c90a50b79b71dc6f3b2%20%3D%20L.circleMarker%28%0A%20%20%20%20%20%20%20%20%20%20%20%20%20%20%20%20%5B52.3844%2C%204.900978%5D%2C%0A%20%20%20%20%20%20%20%20%20%20%20%20%20%20%20%20%7B%22bubblingMouseEvents%22%3A%20true%2C%20%22color%22%3A%20%22%23e10000%22%2C%20%22dashArray%22%3A%20null%2C%20%22dashOffset%22%3A%20null%2C%20%22fill%22%3A%20true%2C%20%22fillColor%22%3A%20%22%23e10000%22%2C%20%22fillOpacity%22%3A%200.2%2C%20%22fillRule%22%3A%20%22evenodd%22%2C%20%22lineCap%22%3A%20%22round%22%2C%20%22lineJoin%22%3A%20%22round%22%2C%20%22opacity%22%3A%201.0%2C%20%22radius%22%3A%2020%2C%20%22stroke%22%3A%20true%2C%20%22weight%22%3A%203%7D%0A%20%20%20%20%20%20%20%20%20%20%20%20%29.addTo%28map_e3e956cf89e2491f8fd36d710d2e5c30%29%3B%0A%20%20%20%20%20%20%20%20%0A%20%20%20%20%0A%20%20%20%20%20%20%20%20var%20popup_b5f3238b8d1d434096253bd0a55c2aed%20%3D%20L.popup%28%7B%22maxWidth%22%3A%20%22100%25%22%7D%29%3B%0A%0A%20%20%20%20%20%20%20%20%0A%20%20%20%20%20%20%20%20%20%20%20%20var%20html_0ffa254a56d34dc2ad62634ec4a54c0d%20%3D%20%24%28%60%3Cdiv%20id%3D%22html_0ffa254a56d34dc2ad62634ec4a54c0d%22%20style%3D%22width%3A%20100.0%25%3B%20height%3A%20100.0%25%3B%22%3EEYE%3C/div%3E%60%29%5B0%5D%3B%0A%20%20%20%20%20%20%20%20%20%20%20%20popup_b5f3238b8d1d434096253bd0a55c2aed.setContent%28html_0ffa254a56d34dc2ad62634ec4a54c0d%29%3B%0A%20%20%20%20%20%20%20%20%0A%0A%20%20%20%20%20%20%20%20circle_marker_9313e552a77f4c90a50b79b71dc6f3b2.bindPopup%28popup_b5f3238b8d1d434096253bd0a55c2aed%29%0A%20%20%20%20%20%20%20%20%3B%0A%0A%20%20%20%20%20%20%20%20%0A%20%20%20%20%0A%20%20%20%20%0A%20%20%20%20%20%20%20%20%20%20%20%20var%20circle_marker_ed8082f50f02476da7ae3753e505f510%20%3D%20L.circleMarker%28%0A%20%20%20%20%20%20%20%20%20%20%20%20%20%20%20%20%5B52.3639%2C%204.89361%5D%2C%0A%20%20%20%20%20%20%20%20%20%20%20%20%20%20%20%20%7B%22bubblingMouseEvents%22%3A%20true%2C%20%22color%22%3A%20%22%2300ff00%22%2C%20%22dashArray%22%3A%20null%2C%20%22dashOffset%22%3A%20null%2C%20%22fill%22%3A%20true%2C%20%22fillColor%22%3A%20%22%2300ff00%22%2C%20%22fillOpacity%22%3A%200.2%2C%20%22fillRule%22%3A%20%22evenodd%22%2C%20%22lineCap%22%3A%20%22round%22%2C%20%22lineJoin%22%3A%20%22round%22%2C%20%22opacity%22%3A%201.0%2C%20%22radius%22%3A%2020%2C%20%22stroke%22%3A%20true%2C%20%22weight%22%3A%203%7D%0A%20%20%20%20%20%20%20%20%20%20%20%20%29.addTo%28map_e3e956cf89e2491f8fd36d710d2e5c30%29%3B%0A%20%20%20%20%20%20%20%20%0A%20%20%20%20%0A%20%20%20%20%20%20%20%20var%20popup_516e2009fe9f4014b5d1e2b625e02860%20%3D%20L.popup%28%7B%22maxWidth%22%3A%20%22100%25%22%7D%29%3B%0A%0A%20%20%20%20%20%20%20%20%0A%20%20%20%20%20%20%20%20%20%20%20%20var%20html_1781b2b7988a4868bd152a866ba85697%20%3D%20%24%28%60%3Cdiv%20id%3D%22html_1781b2b7988a4868bd152a866ba85697%22%20style%3D%22width%3A%20100.0%25%3B%20height%3A%20100.0%25%3B%22%3EFoam%3C/div%3E%60%29%5B0%5D%3B%0A%20%20%20%20%20%20%20%20%20%20%20%20popup_516e2009fe9f4014b5d1e2b625e02860.setContent%28html_1781b2b7988a4868bd152a866ba85697%29%3B%0A%20%20%20%20%20%20%20%20%0A%0A%20%20%20%20%20%20%20%20circle_marker_ed8082f50f02476da7ae3753e505f510.bindPopup%28popup_516e2009fe9f4014b5d1e2b625e02860%29%0A%20%20%20%20%20%20%20%20%3B%0A%0A%20%20%20%20%20%20%20%20%0A%20%20%20%20%0A%20%20%20%20%0A%20%20%20%20%20%20%20%20%20%20%20%20var%20circle_marker_96badc79312c4cf3a67451f6bc338d6a%20%3D%20L.circleMarker%28%0A%20%20%20%20%20%20%20%20%20%20%20%20%20%20%20%20%5B52.36%2C%204.885278%5D%2C%0A%20%20%20%20%20%20%20%20%20%20%20%20%20%20%20%20%7B%22bubblingMouseEvents%22%3A%20true%2C%20%22color%22%3A%20%22%2300ff00%22%2C%20%22dashArray%22%3A%20null%2C%20%22dashOffset%22%3A%20null%2C%20%22fill%22%3A%20true%2C%20%22fillColor%22%3A%20%22%2300ff00%22%2C%20%22fillOpacity%22%3A%200.2%2C%20%22fillRule%22%3A%20%22evenodd%22%2C%20%22lineCap%22%3A%20%22round%22%2C%20%22lineJoin%22%3A%20%22round%22%2C%20%22opacity%22%3A%201.0%2C%20%22radius%22%3A%2020%2C%20%22stroke%22%3A%20true%2C%20%22weight%22%3A%203%7D%0A%20%20%20%20%20%20%20%20%20%20%20%20%29.addTo%28map_e3e956cf89e2491f8fd36d710d2e5c30%29%3B%0A%20%20%20%20%20%20%20%20%0A%20%20%20%20%0A%20%20%20%20%20%20%20%20var%20popup_4a7b6c04e04d413f922995fe6b4e5edd%20%3D%20L.popup%28%7B%22maxWidth%22%3A%20%22100%25%22%7D%29%3B%0A%0A%20%20%20%20%20%20%20%20%0A%20%20%20%20%20%20%20%20%20%20%20%20var%20html_5ec1ced9cfa74cdf87ef54d76191047d%20%3D%20%24%28%60%3Cdiv%20id%3D%22html_5ec1ced9cfa74cdf87ef54d76191047d%22%20style%3D%22width%3A%20100.0%25%3B%20height%3A%20100.0%25%3B%22%3ERijksmuseum%3C/div%3E%60%29%5B0%5D%3B%0A%20%20%20%20%20%20%20%20%20%20%20%20popup_4a7b6c04e04d413f922995fe6b4e5edd.setContent%28html_5ec1ced9cfa74cdf87ef54d76191047d%29%3B%0A%20%20%20%20%20%20%20%20%0A%0A%20%20%20%20%20%20%20%20circle_marker_96badc79312c4cf3a67451f6bc338d6a.bindPopup%28popup_4a7b6c04e04d413f922995fe6b4e5edd%29%0A%20%20%20%20%20%20%20%20%3B%0A%0A%20%20%20%20%20%20%20%20%0A%20%20%20%20%0A%20%20%20%20%0A%20%20%20%20%20%20%20%20%20%20%20%20var%20circle_marker_a83aed2028a848479050fb78029d1b88%20%3D%20L.circleMarker%28%0A%20%20%20%20%20%20%20%20%20%20%20%20%20%20%20%20%5B52.333781%2C%204.865685%5D%2C%0A%20%20%20%20%20%20%20%20%20%20%20%20%20%20%20%20%7B%22bubblingMouseEvents%22%3A%20true%2C%20%22color%22%3A%20%22%23000dff%22%2C%20%22dashArray%22%3A%20null%2C%20%22dashOffset%22%3A%20null%2C%20%22fill%22%3A%20true%2C%20%22fillColor%22%3A%20%22%23000dff%22%2C%20%22fillOpacity%22%3A%200.2%2C%20%22fillRule%22%3A%20%22evenodd%22%2C%20%22lineCap%22%3A%20%22round%22%2C%20%22lineJoin%22%3A%20%22round%22%2C%20%22opacity%22%3A%201.0%2C%20%22radius%22%3A%2020%2C%20%22stroke%22%3A%20true%2C%20%22weight%22%3A%203%7D%0A%20%20%20%20%20%20%20%20%20%20%20%20%29.addTo%28map_e3e956cf89e2491f8fd36d710d2e5c30%29%3B%0A%20%20%20%20%20%20%20%20%0A%20%20%20%20%0A%20%20%20%20%20%20%20%20var%20popup_504b8413c0644f2d8bd5abcdb71bd3d5%20%3D%20L.popup%28%7B%22maxWidth%22%3A%20%22100%25%22%7D%29%3B%0A%0A%20%20%20%20%20%20%20%20%0A%20%20%20%20%20%20%20%20%20%20%20%20var%20html_e4b639fd55ed420eb814991f2d9a08cd%20%3D%20%24%28%60%3Cdiv%20id%3D%22html_e4b639fd55ed420eb814991f2d9a08cd%22%20style%3D%22width%3A%20100.0%25%3B%20height%3A%20100.0%25%3B%22%3Eyour%20location%3C/div%3E%60%29%5B0%5D%3B%0A%20%20%20%20%20%20%20%20%20%20%20%20popup_504b8413c0644f2d8bd5abcdb71bd3d5.setContent%28html_e4b639fd55ed420eb814991f2d9a08cd%29%3B%0A%20%20%20%20%20%20%20%20%0A%0A%20%20%20%20%20%20%20%20circle_marker_a83aed2028a848479050fb78029d1b88.bindPopup%28popup_504b8413c0644f2d8bd5abcdb71bd3d5%29%0A%20%20%20%20%20%20%20%20%3B%0A%0A%20%20%20%20%20%20%20%20%0A%20%20%20%20%0A%3C/script%3E onload=\"this.contentDocument.open();this.contentDocument.write(    decodeURIComponent(this.getAttribute('data-html')));this.contentDocument.close();\" allowfullscreen webkitallowfullscreen mozallowfullscreen></iframe></div></div>"
      ],
      "text/plain": [
       "<folium.folium.Map at 0x26e08292bb0>"
      ]
     },
     "execution_count": 19,
     "metadata": {},
     "output_type": "execute_result"
    }
   ],
   "source": [
    "middle = [museumlocation['lat'].mean(), museumlocation['lon'].mean()]\n",
    "m = folium.Map(location=middle, zoom_start=12)\n",
    "for _, row in museumlocation.iterrows():\n",
    "    if row['Museum'] == \"your location\":\n",
    "        marker_color = \"#000dff\"\n",
    "        marker_fill = \"#000dff\"\n",
    "    elif row['distance'] < dist:\n",
    "        marker_color = \"#00ff00\"\n",
    "        marker_fill = \"#00ff00\"\n",
    "    else: \n",
    "        marker_color = \"#e10000\"\n",
    "        marker_fill = \"#e10000\"\n",
    "    folium.CircleMarker(\n",
    "        location=[row['lat'], row['lon']],\n",
    "        radius= 20,\n",
    "        popup= row['Museum'],\n",
    "        color=marker_color,\n",
    "        fill=True,\n",
    "        fill_color=marker_fill,\n",
    "    ).add_to(m)\n",
    "\n",
    "m"
   ]
  },
  {
   "cell_type": "markdown",
   "id": "cb614633-554c-4b13-aefe-8cd5ff64c2e1",
   "metadata": {},
   "source": [
    "Step 9: The following cells contain SPARQL queries and some essential functions that are later on used for the recommendation. Make sure to run these cells before proceeding forward:"
   ]
  },
  {
   "cell_type": "markdown",
   "id": "a22223aa-ccd9-4353-ba3e-963375293450",
   "metadata": {},
   "source": [
    "<b><font color='red' size='3px'>SPARQL</font></b>"
   ]
  },
  {
   "cell_type": "code",
   "execution_count": 13,
   "id": "2493c676-33f0-41a9-b5de-6e6c3612a3fd",
   "metadata": {},
   "outputs": [],
   "source": [
    "%%capture cell5\n",
    "%%sparql http://LAPTOP-VVBII7UP:7200/repositories/Final -s museumcard\n",
    "PREFIX gp: <http://www.semanticweb.org/kandd/group76/final_project#> \n",
    "PREFIX rdf: <http://www.w3.org/1999/02/22-rdf-syntax-ns#> \n",
    "PREFIX xsd: <http://www.w3.org/2001/XMLSchema#>\n",
    "PREFIX rdfs: <http://www.w3.org/2000/01/rdf-schema#>\n",
    "SELECT DISTINCT ?Museum ?accepts_card {\n",
    "    ?museum rdf:type gp:Museum ;\n",
    "    \t\trdfs:label ?label;\n",
    "    \t\tgp:acceptsMuseumCard ?accepts_card ;\n",
    "\n",
    "    BIND(?label AS ?Museum)\n",
    "    FILTER ( !strstarts(str(?museum), \"http://www.semanticweb.org/kandd/group54/ontology2\") )\n",
    "} ORDER BY ASC(str(?Museum))"
   ]
  },
  {
   "cell_type": "markdown",
   "id": "7e95c744-b347-4738-9965-580ce4e84274",
   "metadata": {},
   "source": [
    "<b><font color='red' size='3px'>SETUP</font></b>"
   ]
  },
  {
   "cell_type": "code",
   "execution_count": 14,
   "id": "acac100e-8071-4630-a9e3-630124d45eb7",
   "metadata": {},
   "outputs": [],
   "source": [
    "accepts_card_values = []\n",
    "accepts_card_colors = []\n",
    "\n",
    "for i in museumcard.accepts_card:\n",
    "    if i == True:\n",
    "        accepts_card_values.append('Yes')\n",
    "        accepts_card_colors.append('teal')\n",
    "    else:\n",
    "        accepts_card_values.append('No')\n",
    "        accepts_card_colors.append('maroon')"
   ]
  },
  {
   "cell_type": "markdown",
   "id": "999826e0-529c-41d7-a13b-b5232930887e",
   "metadata": {},
   "source": [
    "<b><font color='red' size='3px'>SETUP</font></b>"
   ]
  },
  {
   "cell_type": "code",
   "execution_count": 15,
   "id": "ccb228fc-2604-4ffe-ba5c-e981b8c64f69",
   "metadata": {},
   "outputs": [],
   "source": [
    "if not added_accepts_cards_to_dataset:\n",
    "    added_accepts_cards_to_dataset = True\n",
    "    accepts_card_add = pd.Series(accepts_card_values, index=range(0,24))\n",
    "    museumcard['boolean'] = accepts_card_add.values"
   ]
  },
  {
   "cell_type": "markdown",
   "id": "8c8e3d36-a4b8-441c-9f1d-53d357db65f8",
   "metadata": {},
   "source": [
    "Step 10: The result of the following cell is a scatter chart that displayes for each museum if they accept a museum card for entrance.\n",
    "- The museums are ordered alphabatically\n",
    "- The red plus signs indicates that the museums does not accept a museum card\n",
    "- The green plus signs indicates that the museums does indeed accept a museum card"
   ]
  },
  {
   "cell_type": "markdown",
   "id": "be463ee8-82bb-43f9-92f3-88478ac5b96b",
   "metadata": {},
   "source": [
    "<b><font color='red' size='3px'>SETUP</font></b>"
   ]
  },
  {
   "cell_type": "code",
   "execution_count": 16,
   "id": "7d2274dc-9cbc-429c-ac82-4386cb90d9d5",
   "metadata": {},
   "outputs": [
    {
     "data": {
      "image/png": "[encoded data removed]",
      "text/plain": [
       "<Figure size 144x576 with 1 Axes>"
      ]
     },
     "metadata": {
      "needs_background": "light"
     },
     "output_type": "display_data"
    }
   ],
   "source": [
    "museumcard.plot(kind = \"scatter\", y ='Museum', x = 'boolean',  xticks=(['Yes','No']), fontsize=12, marker = 'P', s=150, figsize=(2, 8), color = accepts_card_colors)\n",
    "plt.ylabel('Museum')\n",
    "plt.xlabel('Accepts Museum Cards')\n",
    "plt.gca().invert_yaxis()"
   ]
  },
  {
   "cell_type": "markdown",
   "id": "e3210c90-3fe8-4518-9b01-6ed85a20e0b7",
   "metadata": {},
   "source": [
    "Step 11: The following cell contains a SPARQL query that is later on used for the recommendation based on the museum's price range. Make sure to run this cell before proceeding forward:"
   ]
  },
  {
   "cell_type": "markdown",
   "id": "66d0fc4c-0e3a-4459-baef-d5f112ab37de",
   "metadata": {},
   "source": [
    "<b><font color='red' size='3px'>SPARQL</font></b>"
   ]
  },
  {
   "cell_type": "code",
   "execution_count": 17,
   "id": "b89a29d2-ab4c-4aba-aeb4-66a2b9afcc18",
   "metadata": {},
   "outputs": [],
   "source": [
    "%%capture cell6\n",
    "%%sparql http://LAPTOP-VVBII7UP:7200/repositories/Final -s museumprice\n",
    "PREFIX gp: <http://www.semanticweb.org/kandd/group76/final_project#> \n",
    "PREFIX rdf: <http://www.w3.org/1999/02/22-rdf-syntax-ns#> \n",
    "PREFIX xsd: <http://www.w3.org/2001/XMLSchema#>\n",
    "PREFIX rdfs: <http://www.w3.org/2000/01/rdf-schema#>\n",
    "SELECT DISTINCT ?Museum ?price ?fee_range {\n",
    "    ?museum rdf:type gp:Museum ;\n",
    "    \t\trdfs:label ?label;\n",
    "    \t\tgp:hasAveragePrice ?price_range .\n",
    "\t?price_range gp:hasFee ?fee_range .\n",
    "    BIND(?label AS ?Museum)\n",
    "    BIND(fn:substring-after(str(?price_range), \"#\") AS ?price)\n",
    "    FILTER ( !strstarts(str(?museum), \"http://www.semanticweb.org/kandd/group54/ontology2\") )\n",
    "} ORDER BY ASC(str(?Museum))"
   ]
  },
  {
   "cell_type": "markdown",
   "id": "9d8c97ff-e93e-47b0-9aaa-c9c0178ad50d",
   "metadata": {},
   "source": [
    "Step 12: The result of the following cell is table that displayes the name of the museums, their price category (cheap, affordable and expensive) and the fee range of each category:\n",
    "\n",
    "- The museums are ordered alphabatically\n",
    "- When you hover over a cell, the cell will be highlited in cyan\n",
    "- When you hover over a column's header, the header's text color will change from black to grey \n",
    "- The cell of the category \"Cheap\" is displayed with a green dashed-border to make it easier for the user to recognize\n",
    "- The cell of the category \"Affordable\" is displayed with a yellow dashed-border to make it easier for the user to recognize\n",
    "- The cell of the category \"Expensive\" is displayed with a red dashed-border to make it easier for the user to recognize\n",
    "\n",
    "*important note: The categories and their price ranges are purely a personal modeling. It is highly possible that what we have considered expensive may not be considered as expensive for others. That is why this is considerd a modeling choice on our part.*"
   ]
  },
  {
   "cell_type": "markdown",
   "id": "27f5c3f0-4cb8-4bfb-a997-260681127f15",
   "metadata": {},
   "source": [
    "<b><font color='red' size='3px'>USER</font></b>"
   ]
  },
  {
   "cell_type": "code",
   "execution_count": 20,
   "id": "527a291c-cc12-487d-948e-fe6da75262b7",
   "metadata": {},
   "outputs": [
    {
     "data": {
      "text/html": [
       "<style type=\"text/css\">\n",
       "#T_8b6f4_ caption {\n",
       "  caption-side: top;\n",
       "  font-size: 1.25em;\n",
       "  text-align: center;\n",
       "  margin: 3vh;\n",
       "}\n",
       "#T_8b6f4_ td:not(hover) {\n",
       "  text-align: center;\n",
       "  background-color: white;\n",
       "  color: black;\n",
       "}\n",
       "#T_8b6f4_ td:hover {\n",
       "  background-color: #c8fff1;\n",
       "  color: black;\n",
       "}\n",
       "#T_8b6f4_ th:hover {\n",
       "  background-color: white;\n",
       "  color: #b6b6b6;\n",
       "}\n",
       "#T_8b6f4_ th:not(hover) {\n",
       "  text-align: center;\n",
       "  background-color: white;\n",
       "  color: black;\n",
       "}\n",
       "#T_8b6f4_row0_col1, #T_8b6f4_row1_col1, #T_8b6f4_row3_col1, #T_8b6f4_row4_col1, #T_8b6f4_row7_col1, #T_8b6f4_row9_col1, #T_8b6f4_row11_col1, #T_8b6f4_row14_col1, #T_8b6f4_row15_col1, #T_8b6f4_row20_col1 {\n",
       "  color: black;\n",
       "  background-color: #ccf7d5;\n",
       "  border: 2px dashed #1c9936;\n",
       "}\n",
       "#T_8b6f4_row2_col1, #T_8b6f4_row5_col1, #T_8b6f4_row12_col1, #T_8b6f4_row13_col1, #T_8b6f4_row16_col1, #T_8b6f4_row22_col1 {\n",
       "  color: black;\n",
       "  background-color: #f7f0cc;\n",
       "  border: 2px dashed #c5b325;\n",
       "}\n",
       "#T_8b6f4_row6_col1, #T_8b6f4_row8_col1, #T_8b6f4_row10_col1, #T_8b6f4_row17_col1, #T_8b6f4_row18_col1, #T_8b6f4_row19_col1, #T_8b6f4_row21_col1, #T_8b6f4_row23_col1 {\n",
       "  color: black;\n",
       "  background-color: #f7cccc;\n",
       "  border: 2px dashed #991c1c;\n",
       "}\n",
       "</style>\n",
       "<table id=\"T_8b6f4_\">\n",
       "  <caption>List of price ranges of all the art museums in Amsterdam</caption>\n",
       "  <thead>\n",
       "    <tr>\n",
       "      <th class=\"col_heading level0 col0\" >Museum</th>\n",
       "      <th class=\"col_heading level0 col1\" >price</th>\n",
       "      <th class=\"col_heading level0 col2\" >fee_range</th>\n",
       "    </tr>\n",
       "  </thead>\n",
       "  <tbody>\n",
       "    <tr>\n",
       "      <td id=\"T_8b6f4_row0_col0\" class=\"data row0 col0\" >Cat Cabinet</td>\n",
       "      <td id=\"T_8b6f4_row0_col1\" class=\"data row0 col1\" >Cheap</td>\n",
       "      <td id=\"T_8b6f4_row0_col2\" class=\"data row0 col2\" >less than 10€</td>\n",
       "    </tr>\n",
       "    <tr>\n",
       "      <td id=\"T_8b6f4_row1_col0\" class=\"data row1 col0\" >Diamond Museum Amsterdam</td>\n",
       "      <td id=\"T_8b6f4_row1_col1\" class=\"data row1 col1\" >Cheap</td>\n",
       "      <td id=\"T_8b6f4_row1_col2\" class=\"data row1 col2\" >less than 10€</td>\n",
       "    </tr>\n",
       "    <tr>\n",
       "      <td id=\"T_8b6f4_row2_col0\" class=\"data row2 col0\" >EYE</td>\n",
       "      <td id=\"T_8b6f4_row2_col1\" class=\"data row2 col1\" >Affordable</td>\n",
       "      <td id=\"T_8b6f4_row2_col2\" class=\"data row2 col2\" >between 10€ and 15€</td>\n",
       "    </tr>\n",
       "    <tr>\n",
       "      <td id=\"T_8b6f4_row3_col0\" class=\"data row3 col0\" >Electric Ladyland</td>\n",
       "      <td id=\"T_8b6f4_row3_col1\" class=\"data row3 col1\" >Cheap</td>\n",
       "      <td id=\"T_8b6f4_row3_col2\" class=\"data row3 col2\" >less than 10€</td>\n",
       "    </tr>\n",
       "    <tr>\n",
       "      <td id=\"T_8b6f4_row4_col0\" class=\"data row4 col0\" >Fashion for Good Museum</td>\n",
       "      <td id=\"T_8b6f4_row4_col1\" class=\"data row4 col1\" >Cheap</td>\n",
       "      <td id=\"T_8b6f4_row4_col2\" class=\"data row4 col2\" >less than 10€</td>\n",
       "    </tr>\n",
       "    <tr>\n",
       "      <td id=\"T_8b6f4_row5_col0\" class=\"data row5 col0\" >Foam</td>\n",
       "      <td id=\"T_8b6f4_row5_col1\" class=\"data row5 col1\" >Affordable</td>\n",
       "      <td id=\"T_8b6f4_row5_col2\" class=\"data row5 col2\" >between 10€ and 15€</td>\n",
       "    </tr>\n",
       "    <tr>\n",
       "      <td id=\"T_8b6f4_row6_col0\" class=\"data row6 col0\" >Hermitage Amsterdam</td>\n",
       "      <td id=\"T_8b6f4_row6_col1\" class=\"data row6 col1\" >Expensive</td>\n",
       "      <td id=\"T_8b6f4_row6_col2\" class=\"data row6 col2\" >more than 15€</td>\n",
       "    </tr>\n",
       "    <tr>\n",
       "      <td id=\"T_8b6f4_row7_col0\" class=\"data row7 col0\" >House Marseille</td>\n",
       "      <td id=\"T_8b6f4_row7_col1\" class=\"data row7 col1\" >Cheap</td>\n",
       "      <td id=\"T_8b6f4_row7_col2\" class=\"data row7 col2\" >less than 10€</td>\n",
       "    </tr>\n",
       "    <tr>\n",
       "      <td id=\"T_8b6f4_row8_col0\" class=\"data row8 col0\" >Moco Museum</td>\n",
       "      <td id=\"T_8b6f4_row8_col1\" class=\"data row8 col1\" >Expensive</td>\n",
       "      <td id=\"T_8b6f4_row8_col2\" class=\"data row8 col2\" >more than 15€</td>\n",
       "    </tr>\n",
       "    <tr>\n",
       "      <td id=\"T_8b6f4_row9_col0\" class=\"data row9 col0\" >Nihon no hanga – Japanese Print Room</td>\n",
       "      <td id=\"T_8b6f4_row9_col1\" class=\"data row9 col1\" >Cheap</td>\n",
       "      <td id=\"T_8b6f4_row9_col2\" class=\"data row9 col2\" >less than 10€</td>\n",
       "    </tr>\n",
       "    <tr>\n",
       "      <td id=\"T_8b6f4_row10_col0\" class=\"data row10 col0\" >Nxt Museum</td>\n",
       "      <td id=\"T_8b6f4_row10_col1\" class=\"data row10 col1\" >Expensive</td>\n",
       "      <td id=\"T_8b6f4_row10_col2\" class=\"data row10 col2\" >more than 15€</td>\n",
       "    </tr>\n",
       "    <tr>\n",
       "      <td id=\"T_8b6f4_row11_col0\" class=\"data row11 col0\" >OSCAM - Open Space Contemporary Art Museum</td>\n",
       "      <td id=\"T_8b6f4_row11_col1\" class=\"data row11 col1\" >Cheap</td>\n",
       "      <td id=\"T_8b6f4_row11_col2\" class=\"data row11 col2\" >less than 10€</td>\n",
       "    </tr>\n",
       "    <tr>\n",
       "      <td id=\"T_8b6f4_row12_col0\" class=\"data row12 col0\" >Old Church</td>\n",
       "      <td id=\"T_8b6f4_row12_col1\" class=\"data row12 col1\" >Affordable</td>\n",
       "      <td id=\"T_8b6f4_row12_col2\" class=\"data row12 col2\" >between 10€ and 15€</td>\n",
       "    </tr>\n",
       "    <tr>\n",
       "      <td id=\"T_8b6f4_row13_col0\" class=\"data row13 col0\" >Outsider Art Museum</td>\n",
       "      <td id=\"T_8b6f4_row13_col1\" class=\"data row13 col1\" >Affordable</td>\n",
       "      <td id=\"T_8b6f4_row13_col2\" class=\"data row13 col2\" >between 10€ and 15€</td>\n",
       "    </tr>\n",
       "    <tr>\n",
       "      <td id=\"T_8b6f4_row14_col0\" class=\"data row14 col0\" >P//////AKT</td>\n",
       "      <td id=\"T_8b6f4_row14_col1\" class=\"data row14 col1\" >Cheap</td>\n",
       "      <td id=\"T_8b6f4_row14_col2\" class=\"data row14 col2\" >less than 10€</td>\n",
       "    </tr>\n",
       "    <tr>\n",
       "      <td id=\"T_8b6f4_row15_col0\" class=\"data row15 col0\" >Project Space On The Inside</td>\n",
       "      <td id=\"T_8b6f4_row15_col1\" class=\"data row15 col1\" >Cheap</td>\n",
       "      <td id=\"T_8b6f4_row15_col2\" class=\"data row15 col2\" >less than 10€</td>\n",
       "    </tr>\n",
       "    <tr>\n",
       "      <td id=\"T_8b6f4_row16_col0\" class=\"data row16 col0\" >Rembrandt House Museum</td>\n",
       "      <td id=\"T_8b6f4_row16_col1\" class=\"data row16 col1\" >Affordable</td>\n",
       "      <td id=\"T_8b6f4_row16_col2\" class=\"data row16 col2\" >between 10€ and 15€</td>\n",
       "    </tr>\n",
       "    <tr>\n",
       "      <td id=\"T_8b6f4_row17_col0\" class=\"data row17 col0\" >Rijksmuseum</td>\n",
       "      <td id=\"T_8b6f4_row17_col1\" class=\"data row17 col1\" >Expensive</td>\n",
       "      <td id=\"T_8b6f4_row17_col2\" class=\"data row17 col2\" >more than 15€</td>\n",
       "    </tr>\n",
       "    <tr>\n",
       "      <td id=\"T_8b6f4_row18_col0\" class=\"data row18 col0\" >Stedelijk Museum Amsterdam</td>\n",
       "      <td id=\"T_8b6f4_row18_col1\" class=\"data row18 col1\" >Expensive</td>\n",
       "      <td id=\"T_8b6f4_row18_col2\" class=\"data row18 col2\" >more than 15€</td>\n",
       "    </tr>\n",
       "    <tr>\n",
       "      <td id=\"T_8b6f4_row19_col0\" class=\"data row19 col0\" >Street Art Museum Amsterdam</td>\n",
       "      <td id=\"T_8b6f4_row19_col1\" class=\"data row19 col1\" >Expensive</td>\n",
       "      <td id=\"T_8b6f4_row19_col2\" class=\"data row19 col2\" >more than 15€</td>\n",
       "    </tr>\n",
       "    <tr>\n",
       "      <td id=\"T_8b6f4_row20_col0\" class=\"data row20 col0\" >The Apple</td>\n",
       "      <td id=\"T_8b6f4_row20_col1\" class=\"data row20 col1\" >Cheap</td>\n",
       "      <td id=\"T_8b6f4_row20_col2\" class=\"data row20 col2\" >less than 10€</td>\n",
       "    </tr>\n",
       "    <tr>\n",
       "      <td id=\"T_8b6f4_row21_col0\" class=\"data row21 col0\" >The New Church Amsterdam</td>\n",
       "      <td id=\"T_8b6f4_row21_col1\" class=\"data row21 col1\" >Expensive</td>\n",
       "      <td id=\"T_8b6f4_row21_col2\" class=\"data row21 col2\" >more than 15€</td>\n",
       "    </tr>\n",
       "    <tr>\n",
       "      <td id=\"T_8b6f4_row22_col0\" class=\"data row22 col0\" >Van Eesteren Museum</td>\n",
       "      <td id=\"T_8b6f4_row22_col1\" class=\"data row22 col1\" >Affordable</td>\n",
       "      <td id=\"T_8b6f4_row22_col2\" class=\"data row22 col2\" >between 10€ and 15€</td>\n",
       "    </tr>\n",
       "    <tr>\n",
       "      <td id=\"T_8b6f4_row23_col0\" class=\"data row23 col0\" >Van Gogh Museum</td>\n",
       "      <td id=\"T_8b6f4_row23_col1\" class=\"data row23 col1\" >Expensive</td>\n",
       "      <td id=\"T_8b6f4_row23_col2\" class=\"data row23 col2\" >more than 15€</td>\n",
       "    </tr>\n",
       "  </tbody>\n",
       "</table>\n"
      ],
      "text/plain": [
       "<pandas.io.formats.style.Styler at 0x26e082929a0>"
      ]
     },
     "execution_count": 20,
     "metadata": {},
     "output_type": "execute_result"
    }
   ],
   "source": [
    "def border_expensive(s, props=''):\n",
    "    return np.where(s == 'Expensive', props, '')\n",
    "\n",
    "def border_affordable(s, props=''):\n",
    "    return np.where(s == 'Affordable', props, '')\n",
    "\n",
    "def border_cheap(s, props=''):\n",
    "    return np.where(s == 'Cheap', props, '')\n",
    "  \n",
    "cell_hover = {  # for row hover use <tr> instead of <td>\n",
    "    'selector': 'td:hover',\n",
    "    'props': 'background-color:#c8fff1; color:black'\n",
    "}\n",
    "cell_not_hover = {  # for row hover use <tr> instead of <td>\n",
    "    'selector': 'td:not(hover)',\n",
    "    'props': 'text-align: center;background-color:white; color:black'\n",
    "}\n",
    "headers_not_hover = {  # for row hover use <tr> instead of <td>\n",
    "    'selector': 'th:not(hover)',\n",
    "    'props': 'text-align: center;background-color:white; color:black'\n",
    "}\n",
    "headers = {\n",
    "    'selector': 'th:hover',\n",
    "    'props': 'background-color:white; color:#b6b6b6;'\n",
    "}\n",
    "\n",
    "\n",
    "s2 = museumprice.style.apply(border_expensive, props='color:black;background-color:#f7cccc;border: 2px dashed #991c1c')\\\n",
    "            .apply(border_affordable, props='color:black;background-color:#f7f0cc;border: 2px dashed #c5b325')\\\n",
    "            .apply(border_cheap, props='color:black;background-color:#ccf7d5;border: 2px dashed #1c9936')\\\n",
    "            .set_caption(\"List of price ranges of all the art museums in Amsterdam\")\\\n",
    "            .set_table_styles([{\n",
    "                'selector': 'caption',\n",
    "                'props': 'caption-side: top; font-size:1.25em;text-align: center; margin: 3vh;',\n",
    "                 }, cell_not_hover,cell_hover, headers, headers_not_hover], overwrite=False).hide_index()\n",
    "s2\n"
   ]
  },
  {
   "cell_type": "markdown",
   "id": "e1d92e10-c2f9-402a-92e1-65f386297471",
   "metadata": {},
   "source": [
    "<br><br><br>\n",
    "<b><font size='3px' face = \"verdana\">Final note:</font></b> We thank you for using our application and hope that you were able to find your desired museum and related information. If you wish to select different options and experience other results, you are welocome to go back to the first step and rerun the cells. \n",
    "\n",
    "<font size='4px' face = \"Times New Roman\">- It is highly recommended to restart your kernel and run everything from the start to avoid problems with the datasets</font>"
   ]
  }
 ],
 "metadata": {
  "interpreter": {
   "hash": "63fd5069d213b44bf678585dea6b12cceca9941eaf7f819626cde1f2670de90d"
  },
  "kernelspec": {
   "display_name": "Python 3 (ipykernel)",
   "language": "python",
   "name": "python3"
  },
  "language_info": {
   "codemirror_mode": {
    "name": "ipython",
    "version": 3
   },
   "file_extension": ".py",
   "mimetype": "text/x-python",
   "name": "python",
   "nbconvert_exporter": "python",
   "pygments_lexer": "ipython3",
   "version": "3.9.7"
  }
 },
 "nbformat": 4,
 "nbformat_minor": 5
}
